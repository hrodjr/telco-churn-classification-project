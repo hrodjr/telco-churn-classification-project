{
 "cells": [
  {
   "cell_type": "markdown",
   "id": "0d2c21f5",
   "metadata": {},
   "source": [
    "### This will be in the prepare module\n",
    "    _Check for and remove duplicates by customer_id. - None\n",
    "    \n",
    "    _Remove redundant columns: payment_type_id, internet_service_type_id, contract_type_id, & customer_id. - Completed\n",
    "        -Used the following to drop redundant columns\n",
    "        -df = df.drop(['payment_type_id', 'internet_service_type_id', 'contract_type_id', 'customer_id'], axis = 1)\n",
    "        -df.head(2)\n",
    "    \n",
    "    _Encode payment_type(Electronic check, Mailed check, Bank transfer (automatic), Credit card (automatic)), internet_service_type(DSL, Fiber, None), contract_type(Month-to-month, One year, Two year), gender(male/female), partner(yes/no), multiple_line(yes/no), device_protection(yes/no), tech_support(yes/no), streaming_tv(yes/no), streaming_movies(yes/no), paperless_billing, & churn (yes/no).\n",
    "    - gender is male(1) or not male(0)\n",
    "    - yes(1) no(0)\n",
    "    - payment, contract and service types (True = 1) (Fales = 0)\n",
    "    \n",
    "    _Check for nulls and fill (Fill in total_charges' blanks with 0). - Completed\n",
    "        -#find empty values. Tried isna, isnull, notna, notnull but did not shown any matches.\n",
    "            -df.eq(' ').sum()\n",
    "        -Used .replace to empty values with a 0 in total charges.\n",
    "            -df = df.replace({'total_charges': ' '}, 0)\n",
    "            -df.head()\n",
    "\n",
    "    _Convert total_charges to float64. - Completed\n",
    "        -#convert 'total_charges' to float and validate change.\n",
    "        - df['total_charges'] = df['total_charges'].astype(float)\n",
    "        - df.dtypes\n",
    "    \n",
    "    _Replace 'No phone service' & 'No internet service' with 'No'. - Completed\n",
    "        -df.replace(to_replace = 'No internet service', value = 'No')\n",
    "        -df.replace(to_replace = 'No phone service', value = 'No')"
   ]
  },
  {
   "cell_type": "code",
   "execution_count": 1,
   "id": "81cf1d23",
   "metadata": {},
   "outputs": [],
   "source": [
    "#libraries\n",
    "import get_db\n",
    "import explore\n",
    "import prepare\n",
    "import pandas as pd\n",
    "import numpy as np\n",
    "import seaborn as sns\n",
    "import matplotlib.pyplot as plt\n",
    "import scipy.stats as stats\n",
    "\n",
    "import graphviz\n",
    "from graphviz import Graph\n",
    "\n",
    "#ignore warnings\n",
    "import warnings\n",
    "warnings.filterwarnings('ignore')\n",
    "\n",
    "#sklearn imports\n",
    "from sklearn.model_selection import train_test_split\n",
    "from sklearn.tree import DecisionTreeClassifier\n",
    "from sklearn.tree import export_graphviz\n",
    "from sklearn.metrics import classification_report\n",
    "from sklearn.metrics import confusion_matrix\n",
    "from sklearn.ensemble import RandomForestClassifier\n",
    "from sklearn.neighbors import KNeighborsClassifier"
   ]
  },
  {
   "cell_type": "markdown",
   "id": "515a33e9",
   "metadata": {},
   "source": [
    "# Plan\n",
    "\n",
    "    Goal: Identify feature(s) that cause the greatest churn.\n",
    "    \n",
    "    Taking you through the data pipeline I will begin with acquiring the telcor data from the get_db.py module, prepare it using the prepare.py module, split the data and on through exploration. Using explore.py module I identified a set of features used to develop my initial hypothesis. Once cleaned I ran it through multivariate to compare features to help with testing the listed inital hypothesis. Each exploration will include takeaways that have led to preparing, cleaning ant testing of the data resulting in rejecting or failing to reject the final hypothesis.\n",
    "    \n",
    "    Features within my hypothesis have been split, tested and modeled in order to provide a recommendation on the final hypothesis in order to reduce churn rates based rejected or failed to reject of the hypothesis. \n",
    "    \n",
    "    I have also identified unknown variables that at a later time can be researched, developed and tested using this model to predict future churn.\n",
    "\n",
    "    My initial hypothesis are listed below:\n",
    "    \n",
    "        1. Customers on fiber are more likely to churn than those customers not on fiber.\n",
    "            - Null:\n",
    "            - Alternate:\n",
    "        2. Customers are more than likely to churn in the first month of service than any other customer.\n",
    "            - Null:\n",
    "            - Alternate:\n",
    "        3. Customers who are NOT senior citizens are more likely to churn than senior citizens.\n",
    "            - Null:\n",
    "            - Alternate:\n",
    "        4. m2m churn is greater than those customers not on m2m plan.\n",
    "            - Null:\n",
    "            - Alternate:\n",
    "        5. Customers enrolled in automatic payment plan are less likely to churn than those customers not enrolled in the automatic payment plan.\n",
    "            - Null:\n",
    "            - Alternate:\n",
    "        6. Customers with phone_service (951) are more likely to churn than those that do not have phone_service?\n",
    "            - Null:\n",
    "            - Alternate:\n",
    "            \n",
    "    FEATURES:\n",
    "    \n",
    "        *** fiber (YES), tenure (1 month), single (NO), senior citizen (NO), m2m (YES), autopayments (NO), phone_service (YES)\n",
    "\n",
    "    FINAL HYPOTHESIS (reject or fail to reject):\n",
    "\n",
    "        *** Customers who are young, not single, on fiber, has phone service, on m2m, and not enrolled in a autopayment plan are more likely to churn than those customers that do not fall in this category.\n",
    "        \n",
    "\n",
    "    Exploration:\n",
    "        1. Univariate\n",
    "        2. Bivariate\n",
    "        3. Multivariate\n",
    "\n",
    "    Modeling:\n",
    "        1. Decision Tree\n",
    "        2. Random Forrest\n",
    "        3. KNN\n",
    "        \n",
    "    Conclusion\n",
    "        In conclusion, we ran through the data pipeline, identified our initial hypothesis, split, tested and model our features that resulted in the following recommendations.\n",
    "        1.\n",
    "        2.\n",
    "        3.\n"
   ]
  },
  {
   "cell_type": "markdown",
   "id": "b6222369",
   "metadata": {},
   "source": [
    "# Working code for project"
   ]
  },
  {
   "cell_type": "markdown",
   "id": "18e2f680",
   "metadata": {},
   "source": [
    "# Acquire"
   ]
  },
  {
   "cell_type": "code",
   "execution_count": 2,
   "id": "0de09ea1",
   "metadata": {
    "scrolled": true
   },
   "outputs": [
    {
     "data": {
      "text/html": [
       "<div>\n",
       "<style scoped>\n",
       "    .dataframe tbody tr th:only-of-type {\n",
       "        vertical-align: middle;\n",
       "    }\n",
       "\n",
       "    .dataframe tbody tr th {\n",
       "        vertical-align: top;\n",
       "    }\n",
       "\n",
       "    .dataframe thead th {\n",
       "        text-align: right;\n",
       "    }\n",
       "</style>\n",
       "<table border=\"1\" class=\"dataframe\">\n",
       "  <thead>\n",
       "    <tr style=\"text-align: right;\">\n",
       "      <th></th>\n",
       "      <th>payment_type_id</th>\n",
       "      <th>payment_type</th>\n",
       "      <th>internet_service_type_id</th>\n",
       "      <th>internet_service_type</th>\n",
       "      <th>contract_type_id</th>\n",
       "      <th>contract_type</th>\n",
       "      <th>customer_id</th>\n",
       "      <th>gender</th>\n",
       "      <th>senior_citizen</th>\n",
       "      <th>partner</th>\n",
       "      <th>...</th>\n",
       "      <th>online_security</th>\n",
       "      <th>online_backup</th>\n",
       "      <th>device_protection</th>\n",
       "      <th>tech_support</th>\n",
       "      <th>streaming_tv</th>\n",
       "      <th>streaming_movies</th>\n",
       "      <th>paperless_billing</th>\n",
       "      <th>monthly_charges</th>\n",
       "      <th>total_charges</th>\n",
       "      <th>churn</th>\n",
       "    </tr>\n",
       "  </thead>\n",
       "  <tbody>\n",
       "    <tr>\n",
       "      <th>0</th>\n",
       "      <td>1</td>\n",
       "      <td>Electronic check</td>\n",
       "      <td>1</td>\n",
       "      <td>DSL</td>\n",
       "      <td>1</td>\n",
       "      <td>Month-to-month</td>\n",
       "      <td>0015-UOCOJ</td>\n",
       "      <td>Female</td>\n",
       "      <td>1</td>\n",
       "      <td>No</td>\n",
       "      <td>...</td>\n",
       "      <td>Yes</td>\n",
       "      <td>No</td>\n",
       "      <td>No</td>\n",
       "      <td>No</td>\n",
       "      <td>No</td>\n",
       "      <td>No</td>\n",
       "      <td>Yes</td>\n",
       "      <td>48.2</td>\n",
       "      <td>340.35</td>\n",
       "      <td>No</td>\n",
       "    </tr>\n",
       "  </tbody>\n",
       "</table>\n",
       "<p>1 rows × 24 columns</p>\n",
       "</div>"
      ],
      "text/plain": [
       "   payment_type_id      payment_type  internet_service_type_id  \\\n",
       "0                1  Electronic check                         1   \n",
       "\n",
       "  internet_service_type  contract_type_id   contract_type customer_id  gender  \\\n",
       "0                   DSL                 1  Month-to-month  0015-UOCOJ  Female   \n",
       "\n",
       "   senior_citizen partner  ... online_security  online_backup  \\\n",
       "0               1      No  ...             Yes             No   \n",
       "\n",
       "  device_protection tech_support streaming_tv streaming_movies  \\\n",
       "0                No           No           No               No   \n",
       "\n",
       "  paperless_billing monthly_charges total_charges churn  \n",
       "0               Yes            48.2        340.35    No  \n",
       "\n",
       "[1 rows x 24 columns]"
      ]
     },
     "execution_count": 2,
     "metadata": {},
     "output_type": "execute_result"
    }
   ],
   "source": [
    "df = get_db.get_telco_data()\n",
    "df.head(1)"
   ]
  },
  {
   "cell_type": "code",
   "execution_count": null,
   "id": "2071eceb",
   "metadata": {},
   "outputs": [],
   "source": [
    "#data summarization\n",
    "df.describe(include='all').T"
   ]
  },
  {
   "cell_type": "code",
   "execution_count": null,
   "id": "ac5566b1",
   "metadata": {},
   "outputs": [],
   "source": [
    "df.info()"
   ]
  },
  {
   "cell_type": "markdown",
   "id": "e7e190c6",
   "metadata": {},
   "source": [
    "#### Initial visualization"
   ]
  },
  {
   "cell_type": "code",
   "execution_count": null,
   "id": "0eea3683",
   "metadata": {},
   "outputs": [],
   "source": [
    "#plot charts on acquired data prior to data cleaning.\n",
    "num_cols = df.columns[[df[col].dtype == 'int64' for col in df.columns]]\n",
    "for col in num_cols:\n",
    "    plt.hist(df[col])\n",
    "    plt.title(col)\n",
    "    plt.show()"
   ]
  },
  {
   "cell_type": "code",
   "execution_count": null,
   "id": "e312953a",
   "metadata": {},
   "outputs": [],
   "source": [
    "#value counts on acquired data prior to data cleaning.\n",
    "obj_cols = df.columns[[df[col].dtype == 'O' for col in df.columns]]\n",
    "for col in obj_cols:\n",
    "    print(df[col].value_counts())\n",
    "    print(df[col].value_counts(normalize=True, dropna=False))\n",
    "    print('----------------------')"
   ]
  },
  {
   "cell_type": "markdown",
   "id": "3630bd18",
   "metadata": {},
   "source": [
    "#### From above:\n",
    "    - From above plot charts and column value counts we find the following have no weight on churn rate and will be dropped:\n",
    "        - Remove 'phone_service', 'internet_service', 'senior_citizen', 'paperless' & 'tech_support' (irrelevant)"
   ]
  },
  {
   "cell_type": "markdown",
   "id": "68bd44c2",
   "metadata": {},
   "source": [
    "# Clean"
   ]
  },
  {
   "cell_type": "code",
   "execution_count": 3,
   "id": "30360207",
   "metadata": {
    "scrolled": true
   },
   "outputs": [
    {
     "data": {
      "text/html": [
       "<div>\n",
       "<style scoped>\n",
       "    .dataframe tbody tr th:only-of-type {\n",
       "        vertical-align: middle;\n",
       "    }\n",
       "\n",
       "    .dataframe tbody tr th {\n",
       "        vertical-align: top;\n",
       "    }\n",
       "\n",
       "    .dataframe thead th {\n",
       "        text-align: right;\n",
       "    }\n",
       "</style>\n",
       "<table border=\"1\" class=\"dataframe\">\n",
       "  <thead>\n",
       "    <tr style=\"text-align: right;\">\n",
       "      <th></th>\n",
       "      <th>tenure</th>\n",
       "      <th>monthly_charges</th>\n",
       "      <th>total_charges</th>\n",
       "      <th>bank_transfer</th>\n",
       "      <th>credit_card</th>\n",
       "      <th>e_check</th>\n",
       "      <th>check</th>\n",
       "      <th>dsl</th>\n",
       "      <th>fiber</th>\n",
       "      <th>no_internet</th>\n",
       "      <th>...</th>\n",
       "      <th>dependents</th>\n",
       "      <th>phone_service</th>\n",
       "      <th>multiple_lines</th>\n",
       "      <th>online_security</th>\n",
       "      <th>online_backup</th>\n",
       "      <th>device_protection</th>\n",
       "      <th>tech_support</th>\n",
       "      <th>streaming_tv</th>\n",
       "      <th>streaming_movies</th>\n",
       "      <th>paperless</th>\n",
       "    </tr>\n",
       "  </thead>\n",
       "  <tbody>\n",
       "    <tr>\n",
       "      <th>0</th>\n",
       "      <td>7</td>\n",
       "      <td>48.20</td>\n",
       "      <td>340.35</td>\n",
       "      <td>0</td>\n",
       "      <td>0</td>\n",
       "      <td>1</td>\n",
       "      <td>0</td>\n",
       "      <td>1</td>\n",
       "      <td>0</td>\n",
       "      <td>0</td>\n",
       "      <td>...</td>\n",
       "      <td>0</td>\n",
       "      <td>1</td>\n",
       "      <td>0</td>\n",
       "      <td>1</td>\n",
       "      <td>0</td>\n",
       "      <td>0</td>\n",
       "      <td>0</td>\n",
       "      <td>0</td>\n",
       "      <td>0</td>\n",
       "      <td>1</td>\n",
       "    </tr>\n",
       "    <tr>\n",
       "      <th>1</th>\n",
       "      <td>1</td>\n",
       "      <td>25.10</td>\n",
       "      <td>25.10</td>\n",
       "      <td>0</td>\n",
       "      <td>0</td>\n",
       "      <td>1</td>\n",
       "      <td>0</td>\n",
       "      <td>1</td>\n",
       "      <td>0</td>\n",
       "      <td>0</td>\n",
       "      <td>...</td>\n",
       "      <td>0</td>\n",
       "      <td>0</td>\n",
       "      <td>0</td>\n",
       "      <td>0</td>\n",
       "      <td>0</td>\n",
       "      <td>0</td>\n",
       "      <td>0</td>\n",
       "      <td>0</td>\n",
       "      <td>0</td>\n",
       "      <td>1</td>\n",
       "    </tr>\n",
       "    <tr>\n",
       "      <th>2</th>\n",
       "      <td>2</td>\n",
       "      <td>49.25</td>\n",
       "      <td>91.10</td>\n",
       "      <td>0</td>\n",
       "      <td>0</td>\n",
       "      <td>1</td>\n",
       "      <td>0</td>\n",
       "      <td>1</td>\n",
       "      <td>0</td>\n",
       "      <td>0</td>\n",
       "      <td>...</td>\n",
       "      <td>0</td>\n",
       "      <td>1</td>\n",
       "      <td>0</td>\n",
       "      <td>1</td>\n",
       "      <td>0</td>\n",
       "      <td>0</td>\n",
       "      <td>0</td>\n",
       "      <td>0</td>\n",
       "      <td>0</td>\n",
       "      <td>1</td>\n",
       "    </tr>\n",
       "    <tr>\n",
       "      <th>3</th>\n",
       "      <td>64</td>\n",
       "      <td>81.25</td>\n",
       "      <td>5567.55</td>\n",
       "      <td>0</td>\n",
       "      <td>0</td>\n",
       "      <td>1</td>\n",
       "      <td>0</td>\n",
       "      <td>1</td>\n",
       "      <td>0</td>\n",
       "      <td>0</td>\n",
       "      <td>...</td>\n",
       "      <td>0</td>\n",
       "      <td>1</td>\n",
       "      <td>1</td>\n",
       "      <td>1</td>\n",
       "      <td>1</td>\n",
       "      <td>1</td>\n",
       "      <td>1</td>\n",
       "      <td>1</td>\n",
       "      <td>0</td>\n",
       "      <td>0</td>\n",
       "    </tr>\n",
       "    <tr>\n",
       "      <th>4</th>\n",
       "      <td>6</td>\n",
       "      <td>50.35</td>\n",
       "      <td>314.55</td>\n",
       "      <td>0</td>\n",
       "      <td>0</td>\n",
       "      <td>1</td>\n",
       "      <td>0</td>\n",
       "      <td>1</td>\n",
       "      <td>0</td>\n",
       "      <td>0</td>\n",
       "      <td>...</td>\n",
       "      <td>0</td>\n",
       "      <td>1</td>\n",
       "      <td>1</td>\n",
       "      <td>0</td>\n",
       "      <td>0</td>\n",
       "      <td>0</td>\n",
       "      <td>0</td>\n",
       "      <td>0</td>\n",
       "      <td>0</td>\n",
       "      <td>0</td>\n",
       "    </tr>\n",
       "  </tbody>\n",
       "</table>\n",
       "<p>5 rows × 27 columns</p>\n",
       "</div>"
      ],
      "text/plain": [
       "   tenure  monthly_charges  total_charges  bank_transfer  credit_card  \\\n",
       "0       7            48.20         340.35              0            0   \n",
       "1       1            25.10          25.10              0            0   \n",
       "2       2            49.25          91.10              0            0   \n",
       "3      64            81.25        5567.55              0            0   \n",
       "4       6            50.35         314.55              0            0   \n",
       "\n",
       "   e_check  check  dsl  fiber  no_internet  ...  dependents  phone_service  \\\n",
       "0        1      0    1      0            0  ...           0              1   \n",
       "1        1      0    1      0            0  ...           0              0   \n",
       "2        1      0    1      0            0  ...           0              1   \n",
       "3        1      0    1      0            0  ...           0              1   \n",
       "4        1      0    1      0            0  ...           0              1   \n",
       "\n",
       "   multiple_lines  online_security  online_backup  device_protection  \\\n",
       "0               0                1              0                  0   \n",
       "1               0                0              0                  0   \n",
       "2               0                1              0                  0   \n",
       "3               1                1              1                  1   \n",
       "4               1                0              0                  0   \n",
       "\n",
       "   tech_support  streaming_tv  streaming_movies  paperless  \n",
       "0             0             0                 0          1  \n",
       "1             0             0                 0          1  \n",
       "2             0             0                 0          1  \n",
       "3             1             1                 0          0  \n",
       "4             0             0                 0          0  \n",
       "\n",
       "[5 rows x 27 columns]"
      ]
     },
     "execution_count": 3,
     "metadata": {},
     "output_type": "execute_result"
    }
   ],
   "source": [
    "#added above to the prepare module.\n",
    "df = prepare.clean_data(df)\n",
    "df.head()"
   ]
  },
  {
   "cell_type": "code",
   "execution_count": 4,
   "id": "e8b2304a",
   "metadata": {},
   "outputs": [
    {
     "name": "stdout",
     "output_type": "stream",
     "text": [
      "<class 'pandas.core.frame.DataFrame'>\n",
      "Int64Index: 7043 entries, 0 to 7042\n",
      "Data columns (total 27 columns):\n",
      " #   Column             Non-Null Count  Dtype  \n",
      "---  ------             --------------  -----  \n",
      " 0   tenure             7043 non-null   int64  \n",
      " 1   monthly_charges    7043 non-null   float64\n",
      " 2   total_charges      7043 non-null   float64\n",
      " 3   bank_transfer      7043 non-null   uint8  \n",
      " 4   credit_card        7043 non-null   uint8  \n",
      " 5   e_check            7043 non-null   uint8  \n",
      " 6   check              7043 non-null   uint8  \n",
      " 7   dsl                7043 non-null   uint8  \n",
      " 8   fiber              7043 non-null   uint8  \n",
      " 9   no_internet        7043 non-null   uint8  \n",
      " 10  m2m                7043 non-null   uint8  \n",
      " 11  one_year_contract  7043 non-null   uint8  \n",
      " 12  two_year_contract  7043 non-null   uint8  \n",
      " 13  senior_citizen     7043 non-null   int64  \n",
      " 14  churned            7043 non-null   uint8  \n",
      " 15  is_male            7043 non-null   uint8  \n",
      " 16  partner            7043 non-null   uint8  \n",
      " 17  dependents         7043 non-null   uint8  \n",
      " 18  phone_service      7043 non-null   uint8  \n",
      " 19  multiple_lines     7043 non-null   uint8  \n",
      " 20  online_security    7043 non-null   uint8  \n",
      " 21  online_backup      7043 non-null   uint8  \n",
      " 22  device_protection  7043 non-null   uint8  \n",
      " 23  tech_support       7043 non-null   uint8  \n",
      " 24  streaming_tv       7043 non-null   uint8  \n",
      " 25  streaming_movies   7043 non-null   uint8  \n",
      " 26  paperless          7043 non-null   uint8  \n",
      "dtypes: float64(2), int64(2), uint8(23)\n",
      "memory usage: 433.3 KB\n"
     ]
    }
   ],
   "source": [
    "df.info()"
   ]
  },
  {
   "cell_type": "markdown",
   "id": "9f71704e",
   "metadata": {},
   "source": [
    "# Split your data into train, validate, and test samples.\n",
    "\n",
    "    The resulting dataframes should be 3 samples:\n",
    "    \n",
    "        1. a dataframe for training the algorithms\n",
    "            * The train dataset is for training our models. We also perform our exploratory data analysis on train.\n",
    "            \n",
    "        2. a dataframe for validating the models developed on unseen data\n",
    "            *First, it is an \"out of sample\" dataset so that we can evaluate our models on unseen data to measure how well the model generalizes.\n",
    "            *Second, the validate set allows us to fine tune our hyperparameters.\n",
    "            \n",
    "        3. a dataframe for testing the best performing model to ensure the model is able to be generalized on a final set of unseen data not 'overfitting' train, a validate and a test, roughly a 70%:20%:10% split\n",
    "            *final out of sample dataset used to evaluate how well the models tuned on validate generalize on unseen data."
   ]
  },
  {
   "cell_type": "code",
   "execution_count": 5,
   "id": "02ebf450",
   "metadata": {},
   "outputs": [
    {
     "name": "stdout",
     "output_type": "stream",
     "text": [
      "train -> (3943, 27)\n",
      "validate -> (1691, 27)\n",
      "test -> (1409, 27)\n"
     ]
    }
   ],
   "source": [
    "#Split the data\n",
    "\n",
    "train, validate, test = prepare.train_validate_test_split(df, 'churned')\n",
    "print(f'train -> {train.shape}')\n",
    "print(f'validate -> {validate.shape}')\n",
    "print(f'test -> {test.shape}')"
   ]
  },
  {
   "cell_type": "code",
   "execution_count": 6,
   "id": "6a8d288a",
   "metadata": {},
   "outputs": [],
   "source": [
    "# create X & y version of train, where y is a series with just the target variable and X are all the features.\n",
    "X_train = train.drop(columns=[\"churned\"])\n",
    "y_train = train.churned\n",
    "\n",
    "X_validate = validate.drop(columns=[\"churned\"])\n",
    "y_validate = validate.churned\n",
    "\n",
    "X_test = test.drop(columns=[\"churned\"])\n",
    "y_test = test.churned"
   ]
  },
  {
   "cell_type": "code",
   "execution_count": null,
   "id": "94c330d8",
   "metadata": {},
   "outputs": [],
   "source": []
  },
  {
   "cell_type": "code",
   "execution_count": null,
   "id": "7f593e35",
   "metadata": {},
   "outputs": [],
   "source": []
  },
  {
   "cell_type": "code",
   "execution_count": null,
   "id": "65275765",
   "metadata": {},
   "outputs": [],
   "source": []
  },
  {
   "cell_type": "code",
   "execution_count": null,
   "id": "6d344ea5",
   "metadata": {},
   "outputs": [],
   "source": []
  },
  {
   "cell_type": "code",
   "execution_count": null,
   "id": "e9be3a42",
   "metadata": {},
   "outputs": [],
   "source": []
  },
  {
   "cell_type": "code",
   "execution_count": null,
   "id": "7d048c8f",
   "metadata": {},
   "outputs": [],
   "source": [
    "# create X & y version of train, where y is a series with just the target variable and X are all the features.\n",
    "X_train = train[['fiber','auto_payment']]#features\n",
    "y_train = train.churned#target\n",
    "\n",
    "X_validate = validate[['fiber','auto_payment']]\n",
    "y_validate = validate.churned\n",
    "\n",
    "X_test = test[['fiber','auto_payment']]\n",
    "y_test = test.churned"
   ]
  },
  {
   "cell_type": "code",
   "execution_count": null,
   "id": "232145a4",
   "metadata": {},
   "outputs": [],
   "source": [
    "#Now create the model\n",
    "model1 = DecisionTreeClassifier(max_depth=3, random_state=123)\n",
    "#Fit the model\n",
    "model1.fit(X_train, y_train)\n",
    "#Use the model\n",
    "y_predictions = model1.predict(X_train)\n",
    "# Produce the classification report on the actual y values and this model's predicted y values\n",
    "report = classification_report(y_train, y_predictions, output_dict=True)\n",
    "print(\"Tree of 1 depth\")\n",
    "pd.DataFrame(report)"
   ]
  },
  {
   "cell_type": "code",
   "execution_count": null,
   "id": "149688d4",
   "metadata": {},
   "outputs": [],
   "source": [
    "print('Accuracy of Decision Tree classifier on training set: {:.2f}'.format(model1.score(X_train, y_train)))"
   ]
  },
  {
   "cell_type": "code",
   "execution_count": null,
   "id": "2a84efe7",
   "metadata": {},
   "outputs": [],
   "source": [
    "# The mode is a great baseline\n",
    "baseline = y_train.mode()\n",
    "\n",
    "# Produce a boolean array with True representing a match between the baseline prediction and reality\n",
    "matches_baseline_prediction = y_train == 0\n",
    "\n",
    "baseline_accuracy = matches_baseline_prediction.mean()\n",
    "print(f\"Baseline accuracy: {round(baseline_accuracy, 2)}\")"
   ]
  },
  {
   "cell_type": "markdown",
   "id": "aff0450b",
   "metadata": {},
   "source": [
    "# Exploratory\n",
    "\n",
    "    1. Discover features, using  that have the largest impact on the target variable, i.e. provide the most information gain, drive the outcome. To discover patterns, to spot anomalies, to test hypotheses and to check assumptions\n",
    "        *The dataframe resulting from these functions should be one that is pre-processed, i.e. ready to be used in modeling.\n",
    "        *attributes are reduced to features, features are in a numeric form, there are no missing values, and continuous and/or ordered values are scaled to be unitless.\n",
    "        \n",
    "    2. Hypothesize: Form and document your initial hypotheses about how the predictors (independent variables, features, or attributes) interact with the target (y-value or dependent variable).\n",
    "    \n",
    "    3. Use visualization techniques to identify drivers and follow up with a statistical test, do so.\n",
    "    \n",
    "    4. Test Hypothesis (t-tests, correlation, chi-square, e.g.)"
   ]
  },
  {
   "cell_type": "markdown",
   "id": "abb4a2f4",
   "metadata": {},
   "source": [
    "#### Univariate Stats\n",
    "\n",
    "    1. Descriptive stats, frequencies, histograms. Done during prep and prior to splitting.\n",
    "    \n",
    "        * Explore the target variable.\n",
    "\n",
    "        * Explore the categorical/qualitative variables.\n",
    "\n",
    "        * Explore the continuous/quantitative variables."
   ]
  },
  {
   "cell_type": "code",
   "execution_count": 11,
   "id": "29dd076e",
   "metadata": {},
   "outputs": [],
   "source": [
    "cat_vars = ['churned','tenure', 'dsl', 'fiber', 'no_internet', 'm2m', 'partner', 'dependents',\n",
    "            'phone_service', 'tech_support', 'bank_transfer',\n",
    "           'credit_card', 'e_check', 'check','one_year_contract','two_year_contract',\n",
    "           'online_security','online_backup','is_male','multiple_lines','device_protection',\n",
    "           'streaming_tv','streaming_movies','senior_citizen']#'auto_payment',\n",
    "quant_vars = ['monthly_charges', 'total_charges']"
   ]
  },
  {
   "cell_type": "code",
   "execution_count": 12,
   "id": "fd454e08",
   "metadata": {},
   "outputs": [
    {
     "data": {
      "image/png": "[encoded data removed]",
      "text/plain": [
       "<Figure size 144x144 with 1 Axes>"
      ]
     },
     "metadata": {
      "needs_background": "light"
     },
     "output_type": "display_data"
    },
    {
     "name": "stdout",
     "output_type": "stream",
     "text": [
      "   churned  Count  Percent\n",
      "0        0   2897    73.47\n",
      "1        1   1046    26.53\n",
      "_________________________________________________________________\n"
     ]
    },
    {
     "data": {
      "image/png": "[encoded data removed]",
      "text/plain": [
       "<Figure size 144x144 with 1 Axes>"
      ]
     },
     "metadata": {
      "needs_background": "light"
     },
     "output_type": "display_data"
    },
    {
     "name": "stdout",
     "output_type": "stream",
     "text": [
      "    tenure  Count  Percent\n",
      "1        9    341     8.65\n",
      "72      36    201     5.10\n",
      "2       64    141     3.58\n",
      "3        8    108     2.74\n",
      "4        5    102     2.59\n",
      "..     ...    ...      ...\n",
      "31      30     29     0.74\n",
      "59      63     28     0.71\n",
      "36      33     26     0.66\n",
      "44      14     24     0.61\n",
      "0        0      8     0.20\n",
      "\n",
      "[73 rows x 3 columns]\n",
      "_________________________________________________________________\n"
     ]
    },
    {
     "data": {
      "image/png": "[encoded data removed]",
      "text/plain": [
       "<Figure size 144x144 with 1 Axes>"
      ]
     },
     "metadata": {
      "needs_background": "light"
     },
     "output_type": "display_data"
    },
    {
     "name": "stdout",
     "output_type": "stream",
     "text": [
      "   dsl  Count  Percent\n",
      "0    1   2592    65.74\n",
      "1    0   1351    34.26\n",
      "_________________________________________________________________\n"
     ]
    },
    {
     "data": {
      "image/png": "[encoded data removed]",
      "text/plain": [
       "<Figure size 144x144 with 1 Axes>"
      ]
     },
     "metadata": {
      "needs_background": "light"
     },
     "output_type": "display_data"
    },
    {
     "name": "stdout",
     "output_type": "stream",
     "text": [
      "   fiber  Count  Percent\n",
      "0      0   2191    55.57\n",
      "1      1   1752    44.43\n",
      "_________________________________________________________________\n"
     ]
    },
    {
     "data": {
      "image/png": "[encoded data removed]",
      "text/plain": [
       "<Figure size 144x144 with 1 Axes>"
      ]
     },
     "metadata": {
      "needs_background": "light"
     },
     "output_type": "display_data"
    },
    {
     "name": "stdout",
     "output_type": "stream",
     "text": [
      "   no_internet  Count  Percent\n",
      "0            0   3103     78.7\n",
      "1            1    840     21.3\n",
      "_________________________________________________________________\n"
     ]
    },
    {
     "data": {
      "image/png": "[encoded data removed]",
      "text/plain": [
       "<Figure size 144x144 with 1 Axes>"
      ]
     },
     "metadata": {
      "needs_background": "light"
     },
     "output_type": "display_data"
    },
    {
     "name": "stdout",
     "output_type": "stream",
     "text": [
      "   m2m  Count  Percent\n",
      "1    1   2160    54.78\n",
      "0    0   1783    45.22\n",
      "_________________________________________________________________\n"
     ]
    },
    {
     "data": {
      "image/png": "[encoded data removed]",
      "text/plain": [
       "<Figure size 144x144 with 1 Axes>"
      ]
     },
     "metadata": {
      "needs_background": "light"
     },
     "output_type": "display_data"
    },
    {
     "name": "stdout",
     "output_type": "stream",
     "text": [
      "   partner  Count  Percent\n",
      "0        0   2066     52.4\n",
      "1        1   1877     47.6\n",
      "_________________________________________________________________\n"
     ]
    },
    {
     "data": {
      "image/png": "[encoded data removed]",
      "text/plain": [
       "<Figure size 144x144 with 1 Axes>"
      ]
     },
     "metadata": {
      "needs_background": "light"
     },
     "output_type": "display_data"
    },
    {
     "name": "stdout",
     "output_type": "stream",
     "text": [
      "   dependents  Count  Percent\n",
      "0           1   2763    70.07\n",
      "1           0   1180    29.93\n",
      "_________________________________________________________________\n"
     ]
    },
    {
     "data": {
      "image/png": "[encoded data removed]",
      "text/plain": [
       "<Figure size 144x144 with 1 Axes>"
      ]
     },
     "metadata": {
      "needs_background": "light"
     },
     "output_type": "display_data"
    },
    {
     "name": "stdout",
     "output_type": "stream",
     "text": [
      "   phone_service  Count  Percent\n",
      "1              1   3584     90.9\n",
      "0              0    359      9.1\n",
      "_________________________________________________________________\n"
     ]
    },
    {
     "data": {
      "image/png": "[encoded data removed]",
      "text/plain": [
       "<Figure size 144x144 with 1 Axes>"
      ]
     },
     "metadata": {
      "needs_background": "light"
     },
     "output_type": "display_data"
    },
    {
     "name": "stdout",
     "output_type": "stream",
     "text": [
      "   tech_support  Count  Percent\n",
      "0             1   2779    70.48\n",
      "1             0   1164    29.52\n",
      "_________________________________________________________________\n"
     ]
    },
    {
     "data": {
      "image/png": "[encoded data removed]",
      "text/plain": [
       "<Figure size 144x144 with 1 Axes>"
      ]
     },
     "metadata": {
      "needs_background": "light"
     },
     "output_type": "display_data"
    },
    {
     "name": "stdout",
     "output_type": "stream",
     "text": [
      "   bank_transfer  Count  Percent\n",
      "0              0   3083    78.19\n",
      "1              1    860    21.81\n",
      "_________________________________________________________________\n"
     ]
    },
    {
     "data": {
      "image/png": "[encoded data removed]",
      "text/plain": [
       "<Figure size 144x144 with 1 Axes>"
      ]
     },
     "metadata": {
      "needs_background": "light"
     },
     "output_type": "display_data"
    },
    {
     "name": "stdout",
     "output_type": "stream",
     "text": [
      "   credit_card  Count  Percent\n",
      "0            1   3100    78.62\n",
      "1            0    843    21.38\n",
      "_________________________________________________________________\n"
     ]
    },
    {
     "data": {
      "image/png": "[encoded data removed]",
      "text/plain": [
       "<Figure size 144x144 with 1 Axes>"
      ]
     },
     "metadata": {
      "needs_background": "light"
     },
     "output_type": "display_data"
    },
    {
     "name": "stdout",
     "output_type": "stream",
     "text": [
      "   e_check  Count  Percent\n",
      "0        0   2586    65.58\n",
      "1        1   1357    34.42\n",
      "_________________________________________________________________\n"
     ]
    },
    {
     "data": {
      "image/png": "[encoded data removed]",
      "text/plain": [
       "<Figure size 144x144 with 1 Axes>"
      ]
     },
     "metadata": {
      "needs_background": "light"
     },
     "output_type": "display_data"
    },
    {
     "name": "stdout",
     "output_type": "stream",
     "text": [
      "   check  Count  Percent\n",
      "0      0   3060    77.61\n",
      "1      1    883    22.39\n",
      "_________________________________________________________________\n"
     ]
    },
    {
     "data": {
      "image/png": "[encoded data removed]",
      "text/plain": [
       "<Figure size 144x144 with 1 Axes>"
      ]
     },
     "metadata": {
      "needs_background": "light"
     },
     "output_type": "display_data"
    },
    {
     "name": "stdout",
     "output_type": "stream",
     "text": [
      "   one_year_contract  Count  Percent\n",
      "0                  0   3132    79.43\n",
      "1                  1    811    20.57\n",
      "_________________________________________________________________\n"
     ]
    },
    {
     "data": {
      "image/png": "[encoded data removed]",
      "text/plain": [
       "<Figure size 144x144 with 1 Axes>"
      ]
     },
     "metadata": {
      "needs_background": "light"
     },
     "output_type": "display_data"
    },
    {
     "name": "stdout",
     "output_type": "stream",
     "text": [
      "   two_year_contract  Count  Percent\n",
      "0                  0   2971    75.35\n",
      "1                  1    972    24.65\n",
      "_________________________________________________________________\n"
     ]
    },
    {
     "data": {
      "image/png": "[encoded data removed]",
      "text/plain": [
       "<Figure size 144x144 with 1 Axes>"
      ]
     },
     "metadata": {
      "needs_background": "light"
     },
     "output_type": "display_data"
    },
    {
     "name": "stdout",
     "output_type": "stream",
     "text": [
      "   online_security  Count  Percent\n",
      "0                0   2812    71.32\n",
      "1                1   1131    28.68\n",
      "_________________________________________________________________\n"
     ]
    },
    {
     "data": {
      "image/png": "[encoded data removed]",
      "text/plain": [
       "<Figure size 144x144 with 1 Axes>"
      ]
     },
     "metadata": {
      "needs_background": "light"
     },
     "output_type": "display_data"
    },
    {
     "name": "stdout",
     "output_type": "stream",
     "text": [
      "   online_backup  Count  Percent\n",
      "0              0   2600    65.94\n",
      "1              1   1343    34.06\n",
      "_________________________________________________________________\n"
     ]
    },
    {
     "data": {
      "image/png": "[encoded data removed]",
      "text/plain": [
       "<Figure size 144x144 with 1 Axes>"
      ]
     },
     "metadata": {
      "needs_background": "light"
     },
     "output_type": "display_data"
    },
    {
     "name": "stdout",
     "output_type": "stream",
     "text": [
      "   is_male  Count  Percent\n",
      "1        0   1973    50.04\n",
      "0        1   1970    49.96\n",
      "_________________________________________________________________\n"
     ]
    },
    {
     "data": {
      "image/png": "[encoded data removed]",
      "text/plain": [
       "<Figure size 144x144 with 1 Axes>"
      ]
     },
     "metadata": {
      "needs_background": "light"
     },
     "output_type": "display_data"
    },
    {
     "name": "stdout",
     "output_type": "stream",
     "text": [
      "   multiple_lines  Count  Percent\n",
      "0               0   2286    57.98\n",
      "1               1   1657    42.02\n",
      "_________________________________________________________________\n"
     ]
    },
    {
     "data": {
      "image/png": "[encoded data removed]",
      "text/plain": [
       "<Figure size 144x144 with 1 Axes>"
      ]
     },
     "metadata": {
      "needs_background": "light"
     },
     "output_type": "display_data"
    },
    {
     "name": "stdout",
     "output_type": "stream",
     "text": [
      "   device_protection  Count  Percent\n",
      "0                  0   2568    65.13\n",
      "1                  1   1375    34.87\n",
      "_________________________________________________________________\n"
     ]
    },
    {
     "data": {
      "image/png": "[encoded data removed]",
      "text/plain": [
       "<Figure size 144x144 with 1 Axes>"
      ]
     },
     "metadata": {
      "needs_background": "light"
     },
     "output_type": "display_data"
    },
    {
     "name": "stdout",
     "output_type": "stream",
     "text": [
      "   streaming_tv  Count  Percent\n",
      "0             1   2423    61.45\n",
      "1             0   1520    38.55\n",
      "_________________________________________________________________\n"
     ]
    },
    {
     "data": {
      "image/png": "[encoded data removed]",
      "text/plain": [
       "<Figure size 144x144 with 1 Axes>"
      ]
     },
     "metadata": {
      "needs_background": "light"
     },
     "output_type": "display_data"
    },
    {
     "name": "stdout",
     "output_type": "stream",
     "text": [
      "   streaming_movies  Count  Percent\n",
      "0                 1   2402    60.92\n",
      "1                 0   1541    39.08\n",
      "_________________________________________________________________\n"
     ]
    },
    {
     "data": {
      "image/png": "[encoded data removed]",
      "text/plain": [
       "<Figure size 144x144 with 1 Axes>"
      ]
     },
     "metadata": {
      "needs_background": "light"
     },
     "output_type": "display_data"
    },
    {
     "name": "stdout",
     "output_type": "stream",
     "text": [
      "   senior_citizen  Count  Percent\n",
      "0               0   3261     82.7\n",
      "1               1    682     17.3\n",
      "_________________________________________________________________\n"
     ]
    },
    {
     "data": {
      "image/png": "[encoded data removed]",
      "text/plain": [
       "<Figure size 576x144 with 2 Axes>"
      ]
     },
     "metadata": {
      "needs_background": "light"
     },
     "output_type": "display_data"
    },
    {
     "name": "stdout",
     "output_type": "stream",
     "text": [
      "count    3943.000000\n",
      "mean       65.150710\n",
      "std        30.030427\n",
      "min        18.250000\n",
      "25%        36.475000\n",
      "50%        70.700000\n",
      "75%        89.950000\n",
      "max       118.750000\n",
      "Name: monthly_charges, dtype: float64\n"
     ]
    },
    {
     "data": {
      "image/png": "[encoded data removed]",
      "text/plain": [
       "<Figure size 576x144 with 2 Axes>"
      ]
     },
     "metadata": {
      "needs_background": "light"
     },
     "output_type": "display_data"
    },
    {
     "name": "stdout",
     "output_type": "stream",
     "text": [
      "count    3943.000000\n",
      "mean     2287.059422\n",
      "std      2272.515282\n",
      "min         0.000000\n",
      "25%       393.050000\n",
      "50%      1386.900000\n",
      "75%      3810.675000\n",
      "max      8672.450000\n",
      "Name: total_charges, dtype: float64\n"
     ]
    }
   ],
   "source": [
    "explore.explore_univariate(train, cat_vars, quant_vars)"
   ]
  },
  {
   "cell_type": "markdown",
   "id": "eb16e554",
   "metadata": {},
   "source": [
    "##### TAKEAWAYS\n",
    "    8/28/2021\n",
    "\n",
    "    - 26.53 (1046) customers churned\n",
    "    - 54.78 (2160) customers are m2m \n",
    "    - Customers with a 'partner' similarly divided (47.6 & 52.6 respectively)\n",
    "    - Customers with 'dependents' account for 70.1%\n",
    "    - Customers with 'phone_service_ account for 91%\n",
    "    - m2m - 2160 or 55%, 1 year - 811 or 21%, 2 year - 972 or 24%\n",
    "    - payment type - convert to autopayment and drop 'check' and 'e_check'\n",
    "    - gender - convert to 'is_male' and drop female\n",
    "    \n",
    "________________________________________-\n",
    "\n",
    "\n",
    "\n",
    "    _Dropped 'gender' almost an equal amout of male and female which will not effect churn rate\n",
    "    \n",
    "    _Dropped 'online_security', 'device_protection' - small amount of customers use these services.\n",
    "    \n",
    "    _Seems like a large amount of people use 'tech_support' - Is churn rate affected by bad service.\n",
    "    _Large number of customers use streaming services.\n",
    "    \n",
    "    "
   ]
  },
  {
   "cell_type": "markdown",
   "id": "583da49f",
   "metadata": {},
   "source": [
    "#### Bivariate Stats\n",
    "\n",
    "    1. Plot the interaction of each variable with the target. \n",
    "    \n",
    "    2. Document takeaways.\n",
    "\n",
    "    3. Explore interation of independent variables using viz and/or hypothesis testing to address interdependence."
   ]
  },
  {
   "cell_type": "code",
   "execution_count": 13,
   "id": "30a1fea7",
   "metadata": {},
   "outputs": [],
   "source": [
    "cat_vars = cat_vars[1:]"
   ]
  },
  {
   "cell_type": "code",
   "execution_count": 14,
   "id": "28c17d12",
   "metadata": {
    "scrolled": true
   },
   "outputs": [
    {
     "name": "stdout",
     "output_type": "stream",
     "text": [
      "tenure \n",
      "_____________________\n",
      "\n",
      "         chi2       p-value  degrees of freedom\n",
      "0  673.448746  1.779664e-98                  72\n",
      "\n",
      "observed:\n",
      " churned     0     1   All\n",
      "tenure                   \n",
      "0           8     0     8\n",
      "1         128   213   341\n",
      "2          61    80   141\n",
      "3          54    54   108\n",
      "4          50    52   102\n",
      "...       ...   ...   ...\n",
      "69         42     2    44\n",
      "70         57     5    62\n",
      "71         96     3    99\n",
      "72        197     4   201\n",
      "All      2897  1046  3943\n",
      "\n",
      "[74 rows x 3 columns]\n",
      "\n",
      "expected:\n",
      "              0          1\n",
      "0     5.877758   2.122242\n",
      "1   250.539437  90.460563\n",
      "2   103.595486  37.404514\n",
      "3    79.349734  28.650266\n",
      "4    74.941415  27.058585\n",
      "..         ...        ...\n",
      "68   38.205427  13.794573\n",
      "69   32.327669  11.672331\n",
      "70   45.552625  16.447375\n",
      "71   72.737256  26.262744\n",
      "72  147.678671  53.321329\n",
      "\n",
      "[73 rows x 2 columns]\n"
     ]
    },
    {
     "data": {
      "image/png": "[encoded data removed]",
      "text/plain": [
       "<Figure size 144x144 with 1 Axes>"
      ]
     },
     "metadata": {
      "needs_background": "light"
     },
     "output_type": "display_data"
    },
    {
     "name": "stdout",
     "output_type": "stream",
     "text": [
      "\n",
      "_____________________\n",
      "\n",
      "dsl \n",
      "_____________________\n",
      "\n",
      "        chi2       p-value  degrees of freedom\n",
      "0  58.808096  1.738246e-14                   1\n",
      "\n",
      "observed:\n",
      " churned     0     1   All\n",
      "dsl                      \n",
      "0        1803   789  2592\n",
      "1        1094   257  1351\n",
      "All      2897  1046  3943\n",
      "\n",
      "expected:\n",
      "              0           1\n",
      "0  1904.393609  687.606391\n",
      "1   992.606391  358.393609\n"
     ]
    },
    {
     "data": {
      "image/png": "[encoded data removed]",
      "text/plain": [
       "<Figure size 144x144 with 1 Axes>"
      ]
     },
     "metadata": {
      "needs_background": "light"
     },
     "output_type": "display_data"
    },
    {
     "name": "stdout",
     "output_type": "stream",
     "text": [
      "\n",
      "_____________________\n",
      "\n",
      "fiber \n",
      "_____________________\n",
      "\n",
      "         chi2       p-value  degrees of freedom\n",
      "0  363.780774  4.230027e-81                   1\n",
      "\n",
      "observed:\n",
      " churned     0     1   All\n",
      "fiber                    \n",
      "0        1873   318  2191\n",
      "1        1024   728  1752\n",
      "All      2897  1046  3943\n",
      "\n",
      "expected:\n",
      "              0           1\n",
      "0  1609.770987  581.229013\n",
      "1  1287.229013  464.770987\n"
     ]
    },
    {
     "data": {
      "image/png": "[encoded data removed]",
      "text/plain": [
       "<Figure size 144x144 with 1 Axes>"
      ]
     },
     "metadata": {
      "needs_background": "light"
     },
     "output_type": "display_data"
    },
    {
     "name": "stdout",
     "output_type": "stream",
     "text": [
      "\n",
      "_____________________\n",
      "\n",
      "no_internet \n",
      "_____________________\n",
      "\n",
      "         chi2       p-value  degrees of freedom\n",
      "0  202.021901  7.561684e-46                   1\n",
      "\n",
      "observed:\n",
      " churned         0     1   All\n",
      "no_internet                  \n",
      "0            2118   985  3103\n",
      "1             779    61   840\n",
      "All          2897  1046  3943\n",
      "\n",
      "expected:\n",
      "              0           1\n",
      "0  2279.835405  823.164595\n",
      "1   617.164595  222.835405\n"
     ]
    },
    {
     "data": {
      "image/png": "[encoded data removed]",
      "text/plain": [
       "<Figure size 144x144 with 1 Axes>"
      ]
     },
     "metadata": {
      "needs_background": "light"
     },
     "output_type": "display_data"
    },
    {
     "name": "stdout",
     "output_type": "stream",
     "text": [
      "\n",
      "_____________________\n",
      "\n",
      "m2m \n",
      "_____________________\n",
      "\n",
      "         chi2        p-value  degrees of freedom\n",
      "0  663.836694  2.187516e-146                   1\n",
      "\n",
      "observed:\n",
      " churned     0     1   All\n",
      "m2m                      \n",
      "0        1666   117  1783\n",
      "1        1231   929  2160\n",
      "All      2897  1046  3943\n",
      "\n",
      "expected:\n",
      "              0           1\n",
      "0  1310.005326  472.994674\n",
      "1  1586.994674  573.005326\n"
     ]
    },
    {
     "data": {
      "image/png": "[encoded data removed]",
      "text/plain": [
       "<Figure size 144x144 with 1 Axes>"
      ]
     },
     "metadata": {
      "needs_background": "light"
     },
     "output_type": "display_data"
    },
    {
     "name": "stdout",
     "output_type": "stream",
     "text": [
      "\n",
      "_____________________\n",
      "\n",
      "partner \n",
      "_____________________\n",
      "\n",
      "        chi2       p-value  degrees of freedom\n",
      "0  99.970619  1.546747e-23                   1\n",
      "\n",
      "observed:\n",
      " churned     0     1   All\n",
      "partner                  \n",
      "0        1379   687  2066\n",
      "1        1518   359  1877\n",
      "All      2897  1046  3943\n",
      "\n",
      "expected:\n",
      "              0           1\n",
      "0  1517.931017  548.068983\n",
      "1  1379.068983  497.931017\n"
     ]
    },
    {
     "data": {
      "image/png": "[encoded data removed]",
      "text/plain": [
       "<Figure size 144x144 with 1 Axes>"
      ]
     },
     "metadata": {
      "needs_background": "light"
     },
     "output_type": "display_data"
    },
    {
     "name": "stdout",
     "output_type": "stream",
     "text": [
      "\n",
      "_____________________\n",
      "\n",
      "dependents \n",
      "_____________________\n",
      "\n",
      "         chi2       p-value  degrees of freedom\n",
      "0  104.107639  1.916180e-24                   1\n",
      "\n",
      "observed:\n",
      " churned        0     1   All\n",
      "dependents                  \n",
      "0           1900   863  2763\n",
      "1            997   183  1180\n",
      "All         2897  1046  3943\n",
      "\n",
      "expected:\n",
      "              0           1\n",
      "0  2030.030687  732.969313\n",
      "1   866.969313  313.030687\n"
     ]
    },
    {
     "data": {
      "image/png": "[encoded data removed]",
      "text/plain": [
       "<Figure size 144x144 with 1 Axes>"
      ]
     },
     "metadata": {
      "needs_background": "light"
     },
     "output_type": "display_data"
    },
    {
     "name": "stdout",
     "output_type": "stream",
     "text": [
      "\n",
      "_____________________\n",
      "\n",
      "phone_service \n",
      "_____________________\n",
      "\n",
      "       chi2   p-value  degrees of freedom\n",
      "0  0.001099  0.973553                   1\n",
      "\n",
      "observed:\n",
      " churned           0     1   All\n",
      "phone_service                  \n",
      "0               264    95   359\n",
      "1              2633   951  3584\n",
      "All            2897  1046  3943\n",
      "\n",
      "expected:\n",
      "              0           1\n",
      "0   263.764393   95.235607\n",
      "1  2633.235607  950.764393\n"
     ]
    },
    {
     "data": {
      "image/png": "[encoded data removed]",
      "text/plain": [
       "<Figure size 144x144 with 1 Axes>"
      ]
     },
     "metadata": {
      "needs_background": "light"
     },
     "output_type": "display_data"
    },
    {
     "name": "stdout",
     "output_type": "stream",
     "text": [
      "\n",
      "_____________________\n",
      "\n",
      "tech_support \n",
      "_____________________\n",
      "\n",
      "        chi2       p-value  degrees of freedom\n",
      "0  96.606082  8.458805e-23                   1\n",
      "\n",
      "observed:\n",
      " churned          0     1   All\n",
      "tech_support                  \n",
      "0             1917   862  2779\n",
      "1              980   184  1164\n",
      "All           2897  1046  3943\n",
      "\n",
      "expected:\n",
      "              0           1\n",
      "0  2041.786203  737.213797\n",
      "1   855.213797  308.786203\n"
     ]
    },
    {
     "data": {
      "image/png": "[encoded data removed]",
      "text/plain": [
       "<Figure size 144x144 with 1 Axes>"
      ]
     },
     "metadata": {
      "needs_background": "light"
     },
     "output_type": "display_data"
    },
    {
     "name": "stdout",
     "output_type": "stream",
     "text": [
      "\n",
      "_____________________\n",
      "\n",
      "bank_transfer \n",
      "_____________________\n",
      "\n",
      "        chi2       p-value  degrees of freedom\n",
      "0  72.743249  1.476625e-17                   1\n",
      "\n",
      "observed:\n",
      " churned           0     1   All\n",
      "bank_transfer                  \n",
      "0              2167   916  3083\n",
      "1               730   130   860\n",
      "All            2897  1046  3943\n",
      "\n",
      "expected:\n",
      "              0           1\n",
      "0  2265.141009  817.858991\n",
      "1   631.858991  228.141009\n"
     ]
    },
    {
     "data": {
      "image/png": "[encoded data removed]",
      "text/plain": [
       "<Figure size 144x144 with 1 Axes>"
      ]
     },
     "metadata": {
      "needs_background": "light"
     },
     "output_type": "display_data"
    },
    {
     "name": "stdout",
     "output_type": "stream",
     "text": [
      "\n",
      "_____________________\n",
      "\n",
      "credit_card \n",
      "_____________________\n",
      "\n",
      "        chi2       p-value  degrees of freedom\n",
      "0  58.770411  1.771859e-14                   1\n",
      "\n",
      "observed:\n",
      " churned         0     1   All\n",
      "credit_card                  \n",
      "0            2190   910  3100\n",
      "1             707   136   843\n",
      "All          2897  1046  3943\n",
      "\n",
      "expected:\n",
      "              0           1\n",
      "0  2277.631245  822.368755\n",
      "1   619.368755  223.631245\n"
     ]
    },
    {
     "data": {
      "image/png": "[encoded data removed]",
      "text/plain": [
       "<Figure size 144x144 with 1 Axes>"
      ]
     },
     "metadata": {
      "needs_background": "light"
     },
     "output_type": "display_data"
    },
    {
     "name": "stdout",
     "output_type": "stream",
     "text": [
      "\n",
      "_____________________\n",
      "\n",
      "e_check \n",
      "_____________________\n",
      "\n",
      "         chi2       p-value  degrees of freedom\n",
      "0  341.855195  2.516781e-76                   1\n",
      "\n",
      "observed:\n",
      " churned     0     1   All\n",
      "e_check                  \n",
      "0        2144   442  2586\n",
      "1         753   604  1357\n",
      "All      2897  1046  3943\n",
      "\n",
      "expected:\n",
      "             0          1\n",
      "0  1899.98529  686.01471\n",
      "1   997.01471  359.98529\n"
     ]
    },
    {
     "data": {
      "image/png": "[encoded data removed]",
      "text/plain": [
       "<Figure size 144x144 with 1 Axes>"
      ]
     },
     "metadata": {
      "needs_background": "light"
     },
     "output_type": "display_data"
    },
    {
     "name": "stdout",
     "output_type": "stream",
     "text": [
      "\n",
      "_____________________\n",
      "\n",
      "check \n",
      "_____________________\n",
      "\n",
      "        chi2       p-value  degrees of freedom\n",
      "0  24.963674  5.842070e-07                   1\n",
      "\n",
      "observed:\n",
      " churned     0     1   All\n",
      "check                    \n",
      "0        2190   870  3060\n",
      "1         707   176   883\n",
      "All      2897  1046  3943\n",
      "\n",
      "expected:\n",
      "              0           1\n",
      "0  2248.242455  811.757545\n",
      "1   648.757545  234.242455\n"
     ]
    },
    {
     "data": {
      "image/png": "[encoded data removed]",
      "text/plain": [
       "<Figure size 144x144 with 1 Axes>"
      ]
     },
     "metadata": {
      "needs_background": "light"
     },
     "output_type": "display_data"
    },
    {
     "name": "stdout",
     "output_type": "stream",
     "text": [
      "\n",
      "_____________________\n",
      "\n",
      "one_year_contract \n",
      "_____________________\n",
      "\n",
      "         chi2       p-value  degrees of freedom\n",
      "0  121.756326  2.610042e-28                   1\n",
      "\n",
      "observed:\n",
      " churned               0     1   All\n",
      "one_year_contract                  \n",
      "0                  2177   955  3132\n",
      "1                   720    91   811\n",
      "All                2897  1046  3943\n",
      "\n",
      "expected:\n",
      "              0           1\n",
      "0  2301.142277  830.857723\n",
      "1   595.857723  215.142277\n"
     ]
    },
    {
     "data": {
      "image/png": "[encoded data removed]",
      "text/plain": [
       "<Figure size 144x144 with 1 Axes>"
      ]
     },
     "metadata": {
      "needs_background": "light"
     },
     "output_type": "display_data"
    },
    {
     "name": "stdout",
     "output_type": "stream",
     "text": [
      "\n",
      "_____________________\n",
      "\n",
      "two_year_contract \n",
      "_____________________\n",
      "\n",
      "         chi2       p-value  degrees of freedom\n",
      "0  374.955079  1.560770e-83                   1\n",
      "\n",
      "observed:\n",
      " churned               0     1   All\n",
      "two_year_contract                  \n",
      "0                  1951  1020  2971\n",
      "1                   946    26   972\n",
      "All                2897  1046  3943\n",
      "\n",
      "expected:\n",
      "              0           1\n",
      "0  2182.852397  788.147603\n",
      "1   714.147603  257.852397\n"
     ]
    },
    {
     "data": {
      "image/png": "[encoded data removed]",
      "text/plain": [
       "<Figure size 144x144 with 1 Axes>"
      ]
     },
     "metadata": {
      "needs_background": "light"
     },
     "output_type": "display_data"
    },
    {
     "name": "stdout",
     "output_type": "stream",
     "text": [
      "\n",
      "_____________________\n",
      "\n",
      "online_security \n",
      "_____________________\n",
      "\n",
      "         chi2       p-value  degrees of freedom\n",
      "0  132.877053  9.618794e-31                   1\n",
      "\n",
      "observed:\n",
      " churned             0     1   All\n",
      "online_security                  \n",
      "0                1921   891  2812\n",
      "1                 976   155  1131\n",
      "All              2897  1046  3943\n",
      "\n",
      "expected:\n",
      "              0           1\n",
      "0  2066.031955  745.968045\n",
      "1   830.968045  300.031955\n"
     ]
    },
    {
     "data": {
      "image/png": "[encoded data removed]",
      "text/plain": [
       "<Figure size 144x144 with 1 Axes>"
      ]
     },
     "metadata": {
      "needs_background": "light"
     },
     "output_type": "display_data"
    },
    {
     "name": "stdout",
     "output_type": "stream",
     "text": [
      "\n",
      "_____________________\n",
      "\n",
      "online_backup \n",
      "_____________________\n",
      "\n",
      "        chi2       p-value  degrees of freedom\n",
      "0  33.262971  8.050100e-09                   1\n",
      "\n",
      "observed:\n",
      " churned           0     1   All\n",
      "online_backup                  \n",
      "0              1834   766  2600\n",
      "1              1063   280  1343\n",
      "All            2897  1046  3943\n",
      "\n",
      "expected:\n",
      "              0           1\n",
      "0  1910.271367  689.728633\n",
      "1   986.728633  356.271367\n"
     ]
    },
    {
     "data": {
      "image/png": "[encoded data removed]",
      "text/plain": [
       "<Figure size 144x144 with 1 Axes>"
      ]
     },
     "metadata": {
      "needs_background": "light"
     },
     "output_type": "display_data"
    },
    {
     "name": "stdout",
     "output_type": "stream",
     "text": [
      "\n",
      "_____________________\n",
      "\n",
      "is_male \n",
      "_____________________\n",
      "\n",
      "       chi2   p-value  degrees of freedom\n",
      "0  0.006322  0.936628                   1\n",
      "\n",
      "observed:\n",
      " churned     0     1   All\n",
      "is_male                  \n",
      "0        1449   521  1970\n",
      "1        1448   525  1973\n",
      "All      2897  1046  3943\n",
      "\n",
      "expected:\n",
      "             0          1\n",
      "0  1447.39792  522.60208\n",
      "1  1449.60208  523.39792\n"
     ]
    },
    {
     "data": {
      "image/png": "[encoded data removed]",
      "text/plain": [
       "<Figure size 144x144 with 1 Axes>"
      ]
     },
     "metadata": {
      "needs_background": "light"
     },
     "output_type": "display_data"
    },
    {
     "name": "stdout",
     "output_type": "stream",
     "text": [
      "\n",
      "_____________________\n",
      "\n",
      "multiple_lines \n",
      "_____________________\n",
      "\n",
      "       chi2   p-value  degrees of freedom\n",
      "0  1.717089  0.190068                   1\n",
      "\n",
      "observed:\n",
      " churned            0     1   All\n",
      "multiple_lines                  \n",
      "0               1698   588  2286\n",
      "1               1199   458  1657\n",
      "All             2897  1046  3943\n",
      "\n",
      "expected:\n",
      "              0           1\n",
      "0  1679.569363  606.430637\n",
      "1  1217.430637  439.569363\n"
     ]
    },
    {
     "data": {
      "image/png": "[encoded data removed]",
      "text/plain": [
       "<Figure size 144x144 with 1 Axes>"
      ]
     },
     "metadata": {
      "needs_background": "light"
     },
     "output_type": "display_data"
    },
    {
     "name": "stdout",
     "output_type": "stream",
     "text": [
      "\n",
      "_____________________\n",
      "\n",
      "device_protection \n",
      "_____________________\n",
      "\n",
      "        chi2       p-value  degrees of freedom\n",
      "0  26.695574  2.381665e-07                   1\n",
      "\n",
      "observed:\n",
      " churned               0     1   All\n",
      "device_protection                  \n",
      "0                  1818   750  2568\n",
      "1                  1079   296  1375\n",
      "All                2897  1046  3943\n",
      "\n",
      "expected:\n",
      "              0           1\n",
      "0  1886.760335  681.239665\n",
      "1  1010.239665  364.760335\n"
     ]
    },
    {
     "data": {
      "image/png": "[encoded data removed]",
      "text/plain": [
       "<Figure size 144x144 with 1 Axes>"
      ]
     },
     "metadata": {
      "needs_background": "light"
     },
     "output_type": "display_data"
    },
    {
     "name": "stdout",
     "output_type": "stream",
     "text": [
      "\n",
      "_____________________\n",
      "\n",
      "streaming_tv \n",
      "_____________________\n",
      "\n",
      "        chi2   p-value  degrees of freedom\n",
      "0  10.767162  0.001033                   1\n",
      "\n",
      "observed:\n",
      " churned          0     1   All\n",
      "streaming_tv                  \n",
      "0             1825   598  2423\n",
      "1             1072   448  1520\n",
      "All           2897  1046  3943\n",
      "\n",
      "expected:\n",
      "             0          1\n",
      "0  1780.22597  642.77403\n",
      "1  1116.77403  403.22597\n"
     ]
    },
    {
     "data": {
      "image/png": "[encoded data removed]",
      "text/plain": [
       "<Figure size 144x144 with 1 Axes>"
      ]
     },
     "metadata": {
      "needs_background": "light"
     },
     "output_type": "display_data"
    },
    {
     "name": "stdout",
     "output_type": "stream",
     "text": [
      "\n",
      "_____________________\n",
      "\n",
      "streaming_movies \n",
      "_____________________\n",
      "\n",
      "        chi2   p-value  degrees of freedom\n",
      "0  11.416071  0.000728                   1\n",
      "\n",
      "observed:\n",
      " churned              0     1   All\n",
      "streaming_movies                  \n",
      "0                 1811   591  2402\n",
      "1                 1086   455  1541\n",
      "All               2897  1046  3943\n",
      "\n",
      "expected:\n",
      "              0           1\n",
      "0  1764.796855  637.203145\n",
      "1  1132.203145  408.796855\n"
     ]
    },
    {
     "data": {
      "image/png": "[encoded data removed]",
      "text/plain": [
       "<Figure size 144x144 with 1 Axes>"
      ]
     },
     "metadata": {
      "needs_background": "light"
     },
     "output_type": "display_data"
    },
    {
     "name": "stdout",
     "output_type": "stream",
     "text": [
      "\n",
      "_____________________\n",
      "\n",
      "senior_citizen \n",
      "_____________________\n",
      "\n",
      "        chi2       p-value  degrees of freedom\n",
      "0  90.198518  2.154234e-21                   1\n",
      "\n",
      "observed:\n",
      " churned            0     1   All\n",
      "senior_citizen                  \n",
      "0               2496   765  3261\n",
      "1                401   281   682\n",
      "All             2897  1046  3943\n",
      "\n",
      "expected:\n",
      "              0           1\n",
      "0  2395.921126  865.078874\n",
      "1   501.078874  180.921126\n"
     ]
    },
    {
     "data": {
      "image/png": "[encoded data removed]",
      "text/plain": [
       "<Figure size 144x144 with 1 Axes>"
      ]
     },
     "metadata": {
      "needs_background": "light"
     },
     "output_type": "display_data"
    },
    {
     "name": "stdout",
     "output_type": "stream",
     "text": [
      "\n",
      "_____________________\n",
      "\n",
      "monthly_charges \n",
      "____________________\n",
      "\n"
     ]
    },
    {
     "data": {
      "image/png": "[encoded data removed]",
      "text/plain": [
       "<Figure size 288x288 with 1 Axes>"
      ]
     },
     "metadata": {
      "needs_background": "light"
     },
     "output_type": "display_data"
    },
    {
     "name": "stdout",
     "output_type": "stream",
     "text": [
      "          count       mean        std    min      25%    50%    75%     max\n",
      "churned                                                                    \n",
      "0        2897.0  61.850846  31.160324  18.25  25.2000  65.25  89.10  118.75\n",
      "1        1046.0  74.290010  24.439527  18.95  56.3125  79.55  93.85  118.35 \n",
      "\n",
      "\n",
      "Mann-Whitney Test:\n",
      " MannwhitneyuResult(statistic=1176266.5, pvalue=6.775715811014378e-27)\n",
      "\n",
      "____________________\n",
      "\n",
      "total_charges \n",
      "____________________\n",
      "\n"
     ]
    },
    {
     "data": {
      "image/png": "[encoded data removed]",
      "text/plain": [
       "<Figure size 288x288 with 1 Axes>"
      ]
     },
     "metadata": {
      "needs_background": "light"
     },
     "output_type": "display_data"
    },
    {
     "name": "stdout",
     "output_type": "stream",
     "text": [
      "          count         mean          std    min     25%      50%      75%  \\\n",
      "churned                                                                      \n",
      "0        2897.0  2582.246686  2340.647132   0.00  605.25  1682.05  4326.80   \n",
      "1        1046.0  1469.509226  1840.557584  19.25  124.25   661.95  2235.65   \n",
      "\n",
      "             max  \n",
      "churned           \n",
      "0        8672.45  \n",
      "1        8127.60   \n",
      "\n",
      "\n",
      "Mann-Whitney Test:\n",
      " MannwhitneyuResult(statistic=2008422.0, pvalue=4.4820761482106014e-55)\n",
      "\n",
      "____________________\n",
      "\n"
     ]
    }
   ],
   "source": [
    "explore.explore_bivariate(train, 'churned', cat_vars, quant_vars)"
   ]
  },
  {
   "cell_type": "markdown",
   "id": "78beafd4",
   "metadata": {},
   "source": [
    "##### TAKEAWAYS\n",
    "    8/28/2021\n",
    "\n",
    "    - Number of fiber (728)  customers who churned.\n",
    "       * what is about our fiber internet service is making customers churn?\n",
    "       * Less people churn on DSL (257) then on fiber...possible validation that fiber service needs work.\n",
    "       * DROP no_internet. Only 61 customers who do not have internet churn.\n",
    "       HYPOTHESIS: Customers on fiber are more likely to churn than those customers not on fiber. ****convert Fiber and DSL into one column - Fiber(Yes or No) and encode.\n",
    "       * The new Fiber becomes a feature\n",
    "       * test hyp\n",
    "\n",
    "    - 90.5% of customers in the first month churn than any other month\n",
    "        HYPOTHESIS: Customers are more than likely to churn in the first month of service than any other customer.\n",
    "        \n",
    "    - Between 'partner' and 'dependents' less single (no_d_863-no_p_687=176) customers churn then not single people (p_359 + d_183 = 542).\n",
    "    \n",
    "    - senior_citizen:\n",
    "        HYPOTHESIS: Customers who are NOT senior citizens are more likely to churn than senior citizens.\n",
    "    \n",
    "    - Contract type:\n",
    "        * combine  m2m, 1, and 2 year contracts to a single column titled 'm2m' and encode.\n",
    "        HYPOTHESIS: m2m churn is greater than those customers not on m2m plan.\n",
    "        \n",
    "    - Payment type:\n",
    "        * convert 'bank_transfer' and 'credit_card' payment into autopayment and DROP 'check' and 'e_chek'\n",
    "        HYPOTHESIS: Customers enrolled in automatic payment plan are less likely to churn than those customers not enrolled in the automatic payment plan.\n",
    "\n",
    "    - DROP 'is_male' - it is a 50/50 split\n",
    "    - DROP 'multiple_lines' similar in churn and not churn\n",
    "    \n",
    "    - Phone service:\n",
    "        HYPOTHESIS: Customers with phone_service (951) are more likely to churn than those that do not have phone_service?\n",
    "        \n",
    "    - DROP online_security, online_backup, tech_support and device_protection.\n",
    "\n",
    "----------------------------------------------\n",
    "    QUESTIONS:\n",
    "        1. Why do customers on fiber churn more?\n",
    "        2. Why do customers churn more in the first month than any other month?\n",
    "        3. Why do non single customers (with partner or dependents) churn more then single customers?\n",
    "        4. Why do younger customers churn more than older customers?\n",
    "        5. Why do customers on m2m plans churn more than those customers on contracts?\n",
    "        6. Why do customers enrolled in autopayments churn less than those customers not enrolled in an autopayment?\n",
    "        7. Why do customers churn more with phone services?\n",
    "        \n",
    "        * What do these questions all have in common?\n",
    "       ** What is the cost per month of a younger customers who is not single, has phone services and fiber, on a m2m plan, enrolled in an autopayment plan?\n",
    "       \n",
    "       *** FINAL HYPOTHESIS: Customers who are young, not single, on fiber, has phone service, on m2m, and not enrolled in a autopayment plan are more likely to churn than those customers that do not fall in this category.\n",
    "        \n",
    "        MY FEATURES: fiber (YES), tenure (1 month), single (NO), senior citizen (NO), m2m (YES), autopayments (NO), phone_service (YES)\n",
    "        \n",
    "        Test and validate HYPOTHESIS(reject or fail to reject final hypothesis)\n",
    "_________________________________________________\n",
    "\n",
    "\n",
    "\n",
    "    _Churn in one month (213)_\n",
    "        * Incentive...\n",
    "            - 1 month free service for m2m customers?\n",
    "            - Free upgrade service for signing a one_year contract?\n",
    "            - Free premium service for two year contract?\n",
    "        * Create a graph that shows churn over tenure.\n",
    "   \n",
    "   \n",
    "    _DROPPED one and two year contract. Numbers have no variance on churn.\n",
    "    _DROPPED 'multiple_lines' has the similar weight which will not affect churn.\n",
    "    _Validates drops 'online_security', 'device_protection'\n",
    "    _DROPPED 'total_charges'. total charges for churn are lower than those who did not churn.\n",
    "    \n",
    "    _No partner (687) churn more then couples\n",
    "    _No dependents (863) churn more than people with dependents.\n",
    "        * Do singles have an affect on churn? If so, why?\n",
    "    \n",
    "    _Lose customers in the first year.\n",
    "       \n",
    "       \n",
    "       \n",
    "    _Higher number of m2m (929) customers churn.\n",
    "    \n",
    "    _Those with phone_service (951) churn.\n",
    "    \n",
    "    \n",
    "    _Customers who do not use 'tech_support' (862) tend to churn.\n",
    "        * Three options:\n",
    "            1. Drop column \n",
    "            2. Or, keep and recommend to market availability of tech support to customers...\n",
    "            3. Or is tech support the problem? If so, does tech support need more training.\n",
    "    \n",
    "    \n",
    "    _Customers who are not on auto_payment (780) churn.\n",
    "    \n",
    "    _Higher monthly cost have a higher tendency to churn and pay an averge of 74.3 than those who do not 61.85.. Does  higher monthly cost affect churn?\n",
    "    \n",
    "    _DROP streaming services. Numbers do not show enough to sway a decision."
   ]
  },
  {
   "cell_type": "markdown",
   "id": "7e2aae3d",
   "metadata": {},
   "source": [
    "#### Multivariate Stats\n",
    "\n",
    "    1. How subgroups compare to each-other and to the overall population. \n",
    "    \n",
    "    2. Answer questions using visualizations and/or hypothesis testing.\n",
    "    \n",
    "    (Here I can test some of my questions...reference Exploratory Analysis\n",
    "\n",
    "    _ Need to drop some columns for the multivariate stats."
   ]
  },
  {
   "cell_type": "code",
   "execution_count": null,
   "id": "74447f02",
   "metadata": {},
   "outputs": [],
   "source": [
    "target = 'churned'\n",
    "explore.explore_multivariate(train, target, cat_vars, quant_vars)"
   ]
  },
  {
   "cell_type": "markdown",
   "id": "1d91ef02",
   "metadata": {},
   "source": [
    "##### TAKEAWAYS"
   ]
  },
  {
   "cell_type": "markdown",
   "id": "a108c0e5",
   "metadata": {},
   "source": [
    "# Modeling"
   ]
  },
  {
   "cell_type": "markdown",
   "id": "14bd4d23",
   "metadata": {},
   "source": [
    "### Decision Tree"
   ]
  },
  {
   "cell_type": "code",
   "execution_count": null,
   "id": "2779954d",
   "metadata": {},
   "outputs": [],
   "source": [
    "#create the model\n",
    "\n",
    "#for classification you can change the algorithm to gini or entropy (information gain).  \n",
    "#Default is gini.\n",
    "\n",
    "model = DecisionTreeClassifier(max_depth=1, random_state=123)"
   ]
  },
  {
   "cell_type": "code",
   "execution_count": null,
   "id": "ae337ab5",
   "metadata": {},
   "outputs": [],
   "source": [
    "#Fit the model\n",
    "\n",
    "model = model.fit(X_train, y_train)"
   ]
  },
  {
   "cell_type": "markdown",
   "id": "ee0cbf61",
   "metadata": {},
   "source": [
    "#### Make predictions"
   ]
  },
  {
   "cell_type": "code",
   "execution_count": null,
   "id": "ffccfe27",
   "metadata": {},
   "outputs": [],
   "source": [
    "#Use the model\n",
    "\n",
    "# We'll evaluate the model's performance on train, first\n",
    "\n",
    "y_predictions = model.predict(X_train)\n",
    "y_predictions = [0:5]"
   ]
  },
  {
   "cell_type": "markdown",
   "id": "314030cd",
   "metadata": {},
   "source": [
    "#### Estimate probability"
   ]
  },
  {
   "cell_type": "code",
   "execution_count": null,
   "id": "41a113f9",
   "metadata": {},
   "outputs": [],
   "source": [
    "y_pred_proba = model.predict_proba(X_train)\n",
    "y_pred_proba[0:5]"
   ]
  },
  {
   "cell_type": "markdown",
   "id": "dc40299a",
   "metadata": {},
   "source": [
    "#### Compute accuracy"
   ]
  },
  {
   "cell_type": "code",
   "execution_count": null,
   "id": "77736b57",
   "metadata": {},
   "outputs": [],
   "source": [
    "print('Accuracy of Decision Tree classifier on training set: {:.2f}'\n",
    "      .format(model.score(X_train, y_train)))"
   ]
  },
  {
   "cell_type": "markdown",
   "id": "e8ab200f",
   "metadata": {},
   "source": [
    "#### Confusion matrix\n",
    "\n",
    "TP\n",
    "TN\n",
    "FP\n",
    "FN"
   ]
  },
  {
   "cell_type": "code",
   "execution_count": null,
   "id": "e1601e83",
   "metadata": {},
   "outputs": [],
   "source": [
    "confusion_matrix(y_train, y_pred)"
   ]
  },
  {
   "cell_type": "code",
   "execution_count": null,
   "id": "a666cf65",
   "metadata": {},
   "outputs": [],
   "source": [
    "y_train.value_counts()"
   ]
  },
  {
   "cell_type": "code",
   "execution_count": null,
   "id": "089ff62b",
   "metadata": {},
   "outputs": [],
   "source": [
    "labels = sorted(y_train.unique())\n",
    "\n",
    "pd.DataFrame(confusion_matrix(y_train, y_pred), index=labels, columns=labels)\n"
   ]
  },
  {
   "cell_type": "code",
   "execution_count": null,
   "id": "3d6137a5",
   "metadata": {},
   "outputs": [],
   "source": [
    "print(classification_report(y_train, y_pred))"
   ]
  },
  {
   "cell_type": "markdown",
   "id": "c1e94fda",
   "metadata": {},
   "source": [
    "#### Evaluate the Model with our Validate dataset"
   ]
  },
  {
   "cell_type": "code",
   "execution_count": null,
   "id": "3446adaa",
   "metadata": {},
   "outputs": [],
   "source": [
    "print('Accuracy of Decision Tree classifier on validate set: {:.2f}'\n",
    "     .format(clf.score(X_validate, y_validate)))"
   ]
  },
  {
   "cell_type": "code",
   "execution_count": null,
   "id": "cf21a3bd",
   "metadata": {},
   "outputs": [],
   "source": [
    "# And since accuracy isn't everything\n",
    "\n",
    "# Produce y_predictions that come from the X_validate\n",
    "y_pred = model.predict(X_validate)\n",
    "\n",
    "# Compare actual y values (from validate) to predicted y_values from the model run on X_validate\n",
    "print(classification_report(y_validate, y_pred))"
   ]
  },
  {
   "cell_type": "code",
   "execution_count": null,
   "id": "3186d7b2",
   "metadata": {},
   "outputs": [],
   "source": [
    "# Produce the classification report on the actual y values and this model's predicted y values\n",
    "report = classification_report(y_train, y_predictions, output_dict=True)\n",
    "print(\"Tree of 1 depth\")\n",
    "pd.DataFrame(report)"
   ]
  },
  {
   "cell_type": "markdown",
   "id": "547b6a1f",
   "metadata": {},
   "source": [
    "### Random Forrest"
   ]
  },
  {
   "cell_type": "code",
   "execution_count": null,
   "id": "f0a19aaa",
   "metadata": {},
   "outputs": [],
   "source": [
    "#Create the Model\n",
    "rf = RandomForestClassifier(bootstrap=True, class_weight=None, criterion='gini', min_samples_leaf=1, n_estimators=100,\n",
    "                            max_depth=10, \n",
    "                            random_state=123)"
   ]
  },
  {
   "cell_type": "code",
   "execution_count": null,
   "id": "67316071",
   "metadata": {},
   "outputs": [],
   "source": [
    "#Fit the Model\n",
    "rf.fit(X_train, y_train)"
   ]
  },
  {
   "cell_type": "code",
   "execution_count": null,
   "id": "27402cab",
   "metadata": {},
   "outputs": [],
   "source": [
    "#Use the Model\n",
    "#evaluate the weight\n",
    "print(rf.feature_importances_)"
   ]
  },
  {
   "cell_type": "code",
   "execution_count": null,
   "id": "90834024",
   "metadata": {},
   "outputs": [],
   "source": [
    "#estimate\n",
    "y_pred = rf.predict(X_train)"
   ]
  },
  {
   "cell_type": "code",
   "execution_count": null,
   "id": "1adae52a",
   "metadata": {},
   "outputs": [],
   "source": [
    "#probability\n",
    "y_pred_proba = rf.predict_proba(X_train)"
   ]
  },
  {
   "cell_type": "code",
   "execution_count": null,
   "id": "cf2bb01f",
   "metadata": {},
   "outputs": [],
   "source": [
    "#accuracy\n",
    "print('Accuracy of random forest classifier on training set: {:.2f}'.format(rf.score(X_train, y_train)))"
   ]
  },
  {
   "cell_type": "code",
   "execution_count": null,
   "id": "1014fbe7",
   "metadata": {},
   "outputs": [],
   "source": [
    "#confusion matrix\n",
    "print(confusion_matrix(y_train, y_pred))"
   ]
  },
  {
   "cell_type": "code",
   "execution_count": null,
   "id": "907107ac",
   "metadata": {},
   "outputs": [],
   "source": [
    "#Create a classificaiton report\n",
    "print(classification_report(y_train, y_pred))"
   ]
  },
  {
   "cell_type": "code",
   "execution_count": null,
   "id": "0d1d0fbb",
   "metadata": {},
   "outputs": [],
   "source": [
    "print('Accuracy of random forest classifier on test set: {:.2f}'.format(rf.score(X_validate, y_validate)))"
   ]
  },
  {
   "cell_type": "markdown",
   "id": "e0e621a0",
   "metadata": {},
   "source": [
    "### KNN"
   ]
  },
  {
   "cell_type": "code",
   "execution_count": null,
   "id": "82d052e2",
   "metadata": {},
   "outputs": [],
   "source": [
    "#Create the model\n",
    "# weights = ['uniform', 'density']\n",
    "knn = KNeighborsClassifier(n_neighbors=5, weights='uniform')"
   ]
  },
  {
   "cell_type": "code",
   "execution_count": null,
   "id": "69d34f5b",
   "metadata": {},
   "outputs": [],
   "source": [
    "#fit the model\n",
    "knn.fit(X_train, y_train)"
   ]
  },
  {
   "cell_type": "code",
   "execution_count": null,
   "id": "57004d85",
   "metadata": {},
   "outputs": [],
   "source": [
    "#predict/use the model\n",
    "y_pred = knn.predict(X_train)"
   ]
  },
  {
   "cell_type": "code",
   "execution_count": null,
   "id": "cbc5642e",
   "metadata": {},
   "outputs": [],
   "source": [
    "#probability\n",
    "y_pred_proba = knn.predict_proba(X_train)"
   ]
  },
  {
   "cell_type": "code",
   "execution_count": null,
   "id": "88c15f98",
   "metadata": {},
   "outputs": [],
   "source": [
    "#accuracy\n",
    "print('Accuracy of KNN classifier on training set: {:.2f}'.format(knn.score(X_train, y_train)))"
   ]
  },
  {
   "cell_type": "code",
   "execution_count": null,
   "id": "dc3d7eee",
   "metadata": {},
   "outputs": [],
   "source": [
    "#confusion matrix\n",
    "print(confusion_matrix(y_train, y_pred))"
   ]
  },
  {
   "cell_type": "code",
   "execution_count": null,
   "id": "16988733",
   "metadata": {},
   "outputs": [],
   "source": [
    "print(classification_report(y_train, y_pred))"
   ]
  },
  {
   "cell_type": "code",
   "execution_count": null,
   "id": "6cb82509",
   "metadata": {},
   "outputs": [],
   "source": [
    "#validate\n",
    "print('Accuracy of KNN classifier on test set: {:.2f}'.format(knn.score(X_validate, y_validate)))"
   ]
  },
  {
   "cell_type": "markdown",
   "id": "7d25faf8",
   "metadata": {},
   "source": [
    "# Conclusion\n",
    "\n",
    "    - What we don't know:\n",
    "        * How plans relate to cost. i.e. phone to service plans\n",
    "        * How service plans (online security, online backup, tech support, device protection, and streaming services) relates to cost.\n",
    "        * Cost of one line, cost of multiple lines (what is multiple lines? Is it 2, 3, 4, or more) and how that relates to cost."
   ]
  }
 ],
 "metadata": {
  "kernelspec": {
   "display_name": "Python 3",
   "language": "python",
   "name": "python3"
  },
  "language_info": {
   "codemirror_mode": {
    "name": "ipython",
    "version": 3
   },
   "file_extension": ".py",
   "mimetype": "text/x-python",
   "name": "python",
   "nbconvert_exporter": "python",
   "pygments_lexer": "ipython3",
   "version": "3.8.8"
  }
 },
 "nbformat": 4,
 "nbformat_minor": 5
}
