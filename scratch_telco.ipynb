{
 "cells": [
  {
   "cell_type": "markdown",
   "id": "0d2c21f5",
   "metadata": {},
   "source": [
    "### This will be in the prepare module\n",
    "    _Check for and remove duplicates by customer_id. - None\n",
    "    \n",
    "    _Remove redundant columns: payment_type_id, internet_service_type_id, contract_type_id, & customer_id. - Completed\n",
    "        -Used the following to drop redundant columns\n",
    "        -df = df.drop(['payment_type_id', 'internet_service_type_id', 'contract_type_id', 'customer_id'], axis = 1)\n",
    "        -df.head(2)\n",
    "    \n",
    "    _Encode payment_type(Electronic check, Mailed check, Bank transfer (automatic), Credit card (automatic)), internet_service_type(DSL, Fiber, None), contract_type(Month-to-month, One year, Two year), gender(male/female), partner(yes/no), multiple_line(yes/no), device_protection(yes/no), tech_support(yes/no), streaming_tv(yes/no), streaming_movies(yes/no), paperless_billing, & churn (yes/no).\n",
    "    - gender is male(1) or not male(0)\n",
    "    - yes(1) no(0)\n",
    "    - payment, contract and service types (True = 1) (Fales = 0)\n",
    "    \n",
    "    _Check for nulls and fill (Fill in total_charges' blanks with 0). - Completed\n",
    "        -#find empty values. Tried isna, isnull, notna, notnull but did not shown any matches.\n",
    "            -df.eq(' ').sum()\n",
    "        -Used .replace to empty values with a 0 in total charges.\n",
    "            -df = df.replace({'total_charges': ' '}, 0)\n",
    "            -df.head()\n",
    "\n",
    "    _Convert total_charges to float64. - Completed\n",
    "        -#convert 'total_charges' to float and validate change.\n",
    "        - df['total_charges'] = df['total_charges'].astype(float)\n",
    "        - df.dtypes\n",
    "    \n",
    "    _Replace 'No phone service' & 'No internet service' with 'No'. - Completed\n",
    "        -df.replace(to_replace = 'No internet service', value = 'No')\n",
    "        -df.replace(to_replace = 'No phone service', value = 'No')"
   ]
  },
  {
   "cell_type": "code",
   "execution_count": 1,
   "id": "81cf1d23",
   "metadata": {},
   "outputs": [],
   "source": [
    "#libraries\n",
    "import get_db\n",
    "import explore\n",
    "import prepare\n",
    "import pandas as pd\n",
    "import numpy as np\n",
    "import seaborn as sns\n",
    "import matplotlib.pyplot as plt\n",
    "import scipy.stats as stats\n",
    "\n",
    "import graphviz\n",
    "from graphviz import Graph\n",
    "\n",
    "#ignore warnings\n",
    "import warnings\n",
    "warnings.filterwarnings('ignore')\n",
    "\n",
    "#sklearn imports\n",
    "from sklearn.model_selection import train_test_split\n",
    "from sklearn.tree import DecisionTreeClassifier\n",
    "from sklearn.tree import export_graphviz\n",
    "from sklearn.metrics import classification_report\n",
    "from sklearn.metrics import confusion_matrix\n",
    "from sklearn.ensemble import RandomForestClassifier\n",
    "from sklearn.neighbors import KNeighborsClassifier"
   ]
  },
  {
   "cell_type": "markdown",
   "id": "515a33e9",
   "metadata": {},
   "source": [
    "# Plan\n",
    "\n",
    "    Goal: Identify feature(s) that cause the greatest churn.\n",
    "    \n",
    "    Churn rate is 26.5% (1869) of 7043 customers.\n",
    "    \n",
    "    Taking you through the data pipeline I will begin with acquiring the telcor data from the get_db.py module, prepare it using the prepare.py module, split the data and on through exploration. Using explore.py module I identified a set of features used to develop my initial hypothesis. Once cleaned I ran it through multivariate to compare features to help with testing the listed inital hypothesis. Each exploration will include takeaways that have led to preparing, cleaning ant testing of the data resulting in rejecting or failing to reject the final hypothesis.\n",
    "    \n",
    "    Features within my hypothesis have been split, tested and modeled in order to provide a recommendation on the final hypothesis in order to reduce churn rates based rejected or failed to reject of the hypothesis. \n",
    "    \n",
    "    I have also identified unknown variables that at a later time can be researched, developed and tested using this model to predict future churn.\n",
    "\n",
    "    My initial hypothesis are listed below:\n",
    "    \n",
    "        1. Customers on fiber are more likely to churn than those customers not on fiber.\n",
    "            - Null: Customers on fiber are LESS Likely to churn than customers not on fiber.\n",
    "            - Alternate: Customers on fiber are MORE likely to churn.\n",
    "            NOTES from univariate TAKEAWAYS:\n",
    "                *****AND what internet services fiber customers have AND do they affect churn?\n",
    "                *****What are the monthly costs?\n",
    "                \n",
    "        2. Customers are more likely to churn in the first month of service than any other customer.\n",
    "            - Null: Customers are LESS likely to churn in the first month.\n",
    "            - Alternate: Customers are MORE likely to churn in the first month.\n",
    "            \n",
    "        3. Customers who are NOT senior citizens are more likely to churn than senior citizens.\n",
    "            - Null: Younger customers are LESS likely to churn than older customers.\n",
    "            - Alternate: Younger customers are MORE likely to churn than older customers.\n",
    "            \n",
    "        4. m2m churn is greater than those customers not on m2m plan.\n",
    "            - Null: m2m churn is LESS THAN those on contracts.\n",
    "            - Alternate: m2m churn is GREATER THAN those on contracts.\n",
    "            \n",
    "        5. Customers enrolled in automatic payment plan are less likely to churn than those customers not enrolled in the automatic payment plan.\n",
    "            - Null: Customers enrolled in an autopayment plan are MORE LIKELY to churn than customers not on an autopayment plan.\n",
    "            - Alternate: Customers on an autopayment plane are LESS LIKELY to churn than customers not on an autopayment plan.\n",
    "            \n",
    "        6. Customers with phone_service (951) are more likely to churn than those that do not have phone_service?\n",
    "            - Null: Customers with phone services are LES LIKELY to churn than those that do not have phone services.\n",
    "            - Alternate: Customers with phone services are MORE LIKELY to churn than those that do not have phone services.\n",
    "            \n",
    "    FEATURES:\n",
    "    \n",
    "        *** fiber (YES), tenure (1 month), single (NO), senior citizen (NO), m2m (YES), autopayments (NO), phone_service (YES)\n",
    "\n",
    "    FINAL HYPOTHESIS (reject or fail to reject):\n",
    "\n",
    "        *** Customers who are young, not single, on fiber, has phone service, on m2m, and not enrolled in a autopayment plan are more likely to churn than those customers that do not fall in this category.\n",
    "        \n",
    "\n",
    "    Exploration:\n",
    "        1. Univariate\n",
    "        2. Bivariate\n",
    "        3. Multivariate\n",
    "\n",
    "    Modeling:\n",
    "        1. Decision Tree\n",
    "        2. Random Forrest\n",
    "        3. KNN\n",
    "        \n",
    "    Conclusion\n",
    "        In conclusion, we ran through the data pipeline, identified our initial hypothesis, split, tested and model our features that resulted in the following recommendations.\n",
    "        1.\n",
    "        2.\n",
    "        3.\n"
   ]
  },
  {
   "cell_type": "markdown",
   "id": "b6222369",
   "metadata": {},
   "source": [
    "# *Working code for project*"
   ]
  },
  {
   "cell_type": "markdown",
   "id": "18e2f680",
   "metadata": {},
   "source": [
    "# Acquire"
   ]
  },
  {
   "cell_type": "code",
   "execution_count": 2,
   "id": "0de09ea1",
   "metadata": {
    "scrolled": true
   },
   "outputs": [
    {
     "data": {
      "text/html": [
       "<div>\n",
       "<style scoped>\n",
       "    .dataframe tbody tr th:only-of-type {\n",
       "        vertical-align: middle;\n",
       "    }\n",
       "\n",
       "    .dataframe tbody tr th {\n",
       "        vertical-align: top;\n",
       "    }\n",
       "\n",
       "    .dataframe thead th {\n",
       "        text-align: right;\n",
       "    }\n",
       "</style>\n",
       "<table border=\"1\" class=\"dataframe\">\n",
       "  <thead>\n",
       "    <tr style=\"text-align: right;\">\n",
       "      <th></th>\n",
       "      <th>payment_type_id</th>\n",
       "      <th>payment_type</th>\n",
       "      <th>internet_service_type_id</th>\n",
       "      <th>internet_service_type</th>\n",
       "      <th>contract_type_id</th>\n",
       "      <th>contract_type</th>\n",
       "      <th>customer_id</th>\n",
       "      <th>gender</th>\n",
       "      <th>senior_citizen</th>\n",
       "      <th>partner</th>\n",
       "      <th>...</th>\n",
       "      <th>online_security</th>\n",
       "      <th>online_backup</th>\n",
       "      <th>device_protection</th>\n",
       "      <th>tech_support</th>\n",
       "      <th>streaming_tv</th>\n",
       "      <th>streaming_movies</th>\n",
       "      <th>paperless_billing</th>\n",
       "      <th>monthly_charges</th>\n",
       "      <th>total_charges</th>\n",
       "      <th>churn</th>\n",
       "    </tr>\n",
       "  </thead>\n",
       "  <tbody>\n",
       "    <tr>\n",
       "      <th>0</th>\n",
       "      <td>1</td>\n",
       "      <td>Electronic check</td>\n",
       "      <td>1</td>\n",
       "      <td>DSL</td>\n",
       "      <td>1</td>\n",
       "      <td>Month-to-month</td>\n",
       "      <td>0015-UOCOJ</td>\n",
       "      <td>Female</td>\n",
       "      <td>1</td>\n",
       "      <td>No</td>\n",
       "      <td>...</td>\n",
       "      <td>Yes</td>\n",
       "      <td>No</td>\n",
       "      <td>No</td>\n",
       "      <td>No</td>\n",
       "      <td>No</td>\n",
       "      <td>No</td>\n",
       "      <td>Yes</td>\n",
       "      <td>48.20</td>\n",
       "      <td>340.35</td>\n",
       "      <td>No</td>\n",
       "    </tr>\n",
       "    <tr>\n",
       "      <th>1</th>\n",
       "      <td>1</td>\n",
       "      <td>Electronic check</td>\n",
       "      <td>1</td>\n",
       "      <td>DSL</td>\n",
       "      <td>1</td>\n",
       "      <td>Month-to-month</td>\n",
       "      <td>0023-HGHWL</td>\n",
       "      <td>Male</td>\n",
       "      <td>1</td>\n",
       "      <td>No</td>\n",
       "      <td>...</td>\n",
       "      <td>No</td>\n",
       "      <td>No</td>\n",
       "      <td>No</td>\n",
       "      <td>No</td>\n",
       "      <td>No</td>\n",
       "      <td>No</td>\n",
       "      <td>Yes</td>\n",
       "      <td>25.10</td>\n",
       "      <td>25.1</td>\n",
       "      <td>Yes</td>\n",
       "    </tr>\n",
       "    <tr>\n",
       "      <th>2</th>\n",
       "      <td>1</td>\n",
       "      <td>Electronic check</td>\n",
       "      <td>1</td>\n",
       "      <td>DSL</td>\n",
       "      <td>1</td>\n",
       "      <td>Month-to-month</td>\n",
       "      <td>0067-DKWBL</td>\n",
       "      <td>Male</td>\n",
       "      <td>1</td>\n",
       "      <td>No</td>\n",
       "      <td>...</td>\n",
       "      <td>Yes</td>\n",
       "      <td>No</td>\n",
       "      <td>No</td>\n",
       "      <td>No</td>\n",
       "      <td>No</td>\n",
       "      <td>No</td>\n",
       "      <td>Yes</td>\n",
       "      <td>49.25</td>\n",
       "      <td>91.1</td>\n",
       "      <td>Yes</td>\n",
       "    </tr>\n",
       "    <tr>\n",
       "      <th>3</th>\n",
       "      <td>1</td>\n",
       "      <td>Electronic check</td>\n",
       "      <td>1</td>\n",
       "      <td>DSL</td>\n",
       "      <td>2</td>\n",
       "      <td>One year</td>\n",
       "      <td>0083-PIVIK</td>\n",
       "      <td>Male</td>\n",
       "      <td>0</td>\n",
       "      <td>No</td>\n",
       "      <td>...</td>\n",
       "      <td>Yes</td>\n",
       "      <td>Yes</td>\n",
       "      <td>Yes</td>\n",
       "      <td>Yes</td>\n",
       "      <td>Yes</td>\n",
       "      <td>No</td>\n",
       "      <td>No</td>\n",
       "      <td>81.25</td>\n",
       "      <td>5567.55</td>\n",
       "      <td>No</td>\n",
       "    </tr>\n",
       "    <tr>\n",
       "      <th>4</th>\n",
       "      <td>1</td>\n",
       "      <td>Electronic check</td>\n",
       "      <td>1</td>\n",
       "      <td>DSL</td>\n",
       "      <td>1</td>\n",
       "      <td>Month-to-month</td>\n",
       "      <td>0096-BXERS</td>\n",
       "      <td>Female</td>\n",
       "      <td>0</td>\n",
       "      <td>Yes</td>\n",
       "      <td>...</td>\n",
       "      <td>No</td>\n",
       "      <td>No</td>\n",
       "      <td>No</td>\n",
       "      <td>No</td>\n",
       "      <td>No</td>\n",
       "      <td>No</td>\n",
       "      <td>No</td>\n",
       "      <td>50.35</td>\n",
       "      <td>314.55</td>\n",
       "      <td>No</td>\n",
       "    </tr>\n",
       "  </tbody>\n",
       "</table>\n",
       "<p>5 rows × 24 columns</p>\n",
       "</div>"
      ],
      "text/plain": [
       "   payment_type_id      payment_type  internet_service_type_id  \\\n",
       "0                1  Electronic check                         1   \n",
       "1                1  Electronic check                         1   \n",
       "2                1  Electronic check                         1   \n",
       "3                1  Electronic check                         1   \n",
       "4                1  Electronic check                         1   \n",
       "\n",
       "  internet_service_type  contract_type_id   contract_type customer_id  gender  \\\n",
       "0                   DSL                 1  Month-to-month  0015-UOCOJ  Female   \n",
       "1                   DSL                 1  Month-to-month  0023-HGHWL    Male   \n",
       "2                   DSL                 1  Month-to-month  0067-DKWBL    Male   \n",
       "3                   DSL                 2        One year  0083-PIVIK    Male   \n",
       "4                   DSL                 1  Month-to-month  0096-BXERS  Female   \n",
       "\n",
       "   senior_citizen partner  ... online_security  online_backup  \\\n",
       "0               1      No  ...             Yes             No   \n",
       "1               1      No  ...              No             No   \n",
       "2               1      No  ...             Yes             No   \n",
       "3               0      No  ...             Yes            Yes   \n",
       "4               0     Yes  ...              No             No   \n",
       "\n",
       "  device_protection tech_support streaming_tv streaming_movies  \\\n",
       "0                No           No           No               No   \n",
       "1                No           No           No               No   \n",
       "2                No           No           No               No   \n",
       "3               Yes          Yes          Yes               No   \n",
       "4                No           No           No               No   \n",
       "\n",
       "  paperless_billing monthly_charges total_charges churn  \n",
       "0               Yes           48.20        340.35    No  \n",
       "1               Yes           25.10          25.1   Yes  \n",
       "2               Yes           49.25          91.1   Yes  \n",
       "3                No           81.25       5567.55    No  \n",
       "4                No           50.35        314.55    No  \n",
       "\n",
       "[5 rows x 24 columns]"
      ]
     },
     "execution_count": 2,
     "metadata": {},
     "output_type": "execute_result"
    }
   ],
   "source": [
    "df = get_db.get_telco_data()\n",
    "df.head()"
   ]
  },
  {
   "cell_type": "markdown",
   "id": "e7e190c6",
   "metadata": {},
   "source": [
    "#### Initial visualization"
   ]
  },
  {
   "cell_type": "code",
   "execution_count": null,
   "id": "bbe9522f",
   "metadata": {},
   "outputs": [],
   "source": []
  },
  {
   "cell_type": "markdown",
   "id": "ccc08755",
   "metadata": {},
   "source": [
    "##### TAKEAWAYS \n",
    "\n",
    "    -Related services:\n",
    "        *multiple_services relates to phone_services\n",
    "        *online_security, online_backup, device_protection, tech_support, streaming_tv, and streaming_movies related to internet services. "
   ]
  },
  {
   "cell_type": "markdown",
   "id": "68bd44c2",
   "metadata": {},
   "source": [
    "# Clean/Prepare\n",
    "\n",
    "    - The prepare file is broke up by sections to identify at which stage of the pipeline that I decided to edit, alter, modify or delete colums, column names, data types, etc...and are identifed by notes within the code.\n",
    "\n",
    "    * Initial clean up was done just after initial visualization of raw data.\n",
    "    * all other decisions to modify the dataframe are annotated within the prepare.py module."
   ]
  },
  {
   "cell_type": "code",
   "execution_count": 3,
   "id": "30360207",
   "metadata": {
    "scrolled": true
   },
   "outputs": [
    {
     "data": {
      "text/html": [
       "<div>\n",
       "<style scoped>\n",
       "    .dataframe tbody tr th:only-of-type {\n",
       "        vertical-align: middle;\n",
       "    }\n",
       "\n",
       "    .dataframe tbody tr th {\n",
       "        vertical-align: top;\n",
       "    }\n",
       "\n",
       "    .dataframe thead th {\n",
       "        text-align: right;\n",
       "    }\n",
       "</style>\n",
       "<table border=\"1\" class=\"dataframe\">\n",
       "  <thead>\n",
       "    <tr style=\"text-align: right;\">\n",
       "      <th></th>\n",
       "      <th>tenure</th>\n",
       "      <th>monthly_charges</th>\n",
       "      <th>fiber</th>\n",
       "      <th>m2m</th>\n",
       "      <th>is_senior</th>\n",
       "      <th>churned</th>\n",
       "      <th>partner</th>\n",
       "      <th>dependents</th>\n",
       "      <th>phone_service</th>\n",
       "      <th>online_security</th>\n",
       "      <th>online_backup</th>\n",
       "      <th>device_protection</th>\n",
       "      <th>tech_support</th>\n",
       "      <th>autopayment</th>\n",
       "    </tr>\n",
       "  </thead>\n",
       "  <tbody>\n",
       "    <tr>\n",
       "      <th>0</th>\n",
       "      <td>7</td>\n",
       "      <td>48.20</td>\n",
       "      <td>0</td>\n",
       "      <td>1</td>\n",
       "      <td>1</td>\n",
       "      <td>0</td>\n",
       "      <td>0</td>\n",
       "      <td>0</td>\n",
       "      <td>1</td>\n",
       "      <td>1</td>\n",
       "      <td>0</td>\n",
       "      <td>0</td>\n",
       "      <td>0</td>\n",
       "      <td>0</td>\n",
       "    </tr>\n",
       "    <tr>\n",
       "      <th>1</th>\n",
       "      <td>1</td>\n",
       "      <td>25.10</td>\n",
       "      <td>0</td>\n",
       "      <td>1</td>\n",
       "      <td>1</td>\n",
       "      <td>1</td>\n",
       "      <td>0</td>\n",
       "      <td>0</td>\n",
       "      <td>0</td>\n",
       "      <td>0</td>\n",
       "      <td>0</td>\n",
       "      <td>0</td>\n",
       "      <td>0</td>\n",
       "      <td>0</td>\n",
       "    </tr>\n",
       "    <tr>\n",
       "      <th>2</th>\n",
       "      <td>2</td>\n",
       "      <td>49.25</td>\n",
       "      <td>0</td>\n",
       "      <td>1</td>\n",
       "      <td>1</td>\n",
       "      <td>1</td>\n",
       "      <td>0</td>\n",
       "      <td>0</td>\n",
       "      <td>1</td>\n",
       "      <td>1</td>\n",
       "      <td>0</td>\n",
       "      <td>0</td>\n",
       "      <td>0</td>\n",
       "      <td>0</td>\n",
       "    </tr>\n",
       "    <tr>\n",
       "      <th>3</th>\n",
       "      <td>64</td>\n",
       "      <td>81.25</td>\n",
       "      <td>0</td>\n",
       "      <td>0</td>\n",
       "      <td>0</td>\n",
       "      <td>0</td>\n",
       "      <td>0</td>\n",
       "      <td>0</td>\n",
       "      <td>1</td>\n",
       "      <td>1</td>\n",
       "      <td>1</td>\n",
       "      <td>1</td>\n",
       "      <td>1</td>\n",
       "      <td>0</td>\n",
       "    </tr>\n",
       "    <tr>\n",
       "      <th>4</th>\n",
       "      <td>6</td>\n",
       "      <td>50.35</td>\n",
       "      <td>0</td>\n",
       "      <td>1</td>\n",
       "      <td>0</td>\n",
       "      <td>0</td>\n",
       "      <td>1</td>\n",
       "      <td>0</td>\n",
       "      <td>1</td>\n",
       "      <td>0</td>\n",
       "      <td>0</td>\n",
       "      <td>0</td>\n",
       "      <td>0</td>\n",
       "      <td>0</td>\n",
       "    </tr>\n",
       "  </tbody>\n",
       "</table>\n",
       "</div>"
      ],
      "text/plain": [
       "   tenure  monthly_charges  fiber  m2m  is_senior  churned  partner  \\\n",
       "0       7            48.20      0    1          1        0        0   \n",
       "1       1            25.10      0    1          1        1        0   \n",
       "2       2            49.25      0    1          1        1        0   \n",
       "3      64            81.25      0    0          0        0        0   \n",
       "4       6            50.35      0    1          0        0        1   \n",
       "\n",
       "   dependents  phone_service  online_security  online_backup  \\\n",
       "0           0              1                1              0   \n",
       "1           0              0                0              0   \n",
       "2           0              1                1              0   \n",
       "3           0              1                1              1   \n",
       "4           0              1                0              0   \n",
       "\n",
       "   device_protection  tech_support  autopayment  \n",
       "0                  0             0            0  \n",
       "1                  0             0            0  \n",
       "2                  0             0            0  \n",
       "3                  1             1            0  \n",
       "4                  0             0            0  "
      ]
     },
     "execution_count": 3,
     "metadata": {},
     "output_type": "execute_result"
    }
   ],
   "source": [
    "#added above to the prepare module.\n",
    "df = prepare.clean_data(df)\n",
    "df.head()"
   ]
  },
  {
   "cell_type": "markdown",
   "id": "9f71704e",
   "metadata": {},
   "source": [
    "# Split your data into train, validate, and test samples.\n",
    "\n",
    "    The resulting dataframes should be 3 samples:\n",
    "    \n",
    "        1. a dataframe for training the algorithms\n",
    "            * The train dataset is for training our models. We also perform our exploratory data analysis on train.\n",
    "            \n",
    "        2. a dataframe for validating the models developed on unseen data\n",
    "            *First, it is an \"out of sample\" dataset so that we can evaluate our models on unseen data to measure how well the model generalizes.\n",
    "            *Second, the validate set allows us to fine tune our hyperparameters.\n",
    "            \n",
    "        3. a dataframe for testing the best performing model to ensure the model is able to be generalized on a final set of unseen data not 'overfitting' train, a validate and a test, roughly a 70%:20%:10% split\n",
    "            *final out of sample dataset used to evaluate how well the models tuned on validate generalize on unseen data."
   ]
  },
  {
   "cell_type": "code",
   "execution_count": 4,
   "id": "02ebf450",
   "metadata": {},
   "outputs": [],
   "source": [
    "#Split the dataframe into three dataframes (train, validate, and test)\n",
    "train, validate, test = prepare.train_validate_test_split(df, 'churned')"
   ]
  },
  {
   "cell_type": "markdown",
   "id": "aff0450b",
   "metadata": {},
   "source": [
    "# Exploratory\n",
    "\n",
    "    1. Discover features, using  that have the largest impact on the target variable, i.e. provide the most information gain, drive the outcome. To discover patterns, to spot anomalies, to test hypotheses and to check assumptions\n",
    "        *The dataframe resulting from these functions should be one that is pre-processed, i.e. ready to be used in modeling.\n",
    "        *attributes are reduced to features, features are in a numeric form, there are no missing values, and continuous and/or ordered values are scaled to be unitless.\n",
    "        \n",
    "    2. Hypothesize: Form and document your initial hypotheses about how the predictors (independent variables, features, or attributes) interact with the target (y-value or dependent variable).\n",
    "    \n",
    "    3. Use visualization techniques to identify drivers and follow up with a statistical test, do so.\n",
    "    \n",
    "    4. Test Hypothesis (t-tests, correlation, chi-square, e.g.)"
   ]
  },
  {
   "cell_type": "markdown",
   "id": "abb4a2f4",
   "metadata": {},
   "source": [
    "#### Univariate Stats\n",
    "\n",
    "    1. Descriptive stats, frequencies, histograms.    \n",
    "        * Explore the target variable.\n",
    "        * Explore the categorical/qualitative variables.\n",
    "        * Explore the continuous/quantitative variables."
   ]
  },
  {
   "cell_type": "code",
   "execution_count": null,
   "id": "52fccd3d",
   "metadata": {},
   "outputs": [],
   "source": [
    "train.shape"
   ]
  },
  {
   "cell_type": "code",
   "execution_count": 5,
   "id": "29dd076e",
   "metadata": {
    "scrolled": true
   },
   "outputs": [
    {
     "data": {
      "image/png": "[encoded data removed]",
      "text/plain": [
       "<Figure size 144x144 with 1 Axes>"
      ]
     },
     "metadata": {
      "needs_background": "light"
     },
     "output_type": "display_data"
    },
    {
     "name": "stdout",
     "output_type": "stream",
     "text": [
      "   fiber  Count  Percent\n",
      "0      0   2191    55.57\n",
      "1      1   1752    44.43\n",
      "_________________________________________________________________\n"
     ]
    },
    {
     "data": {
      "image/png": "[encoded data removed]",
      "text/plain": [
       "<Figure size 144x144 with 1 Axes>"
      ]
     },
     "metadata": {
      "needs_background": "light"
     },
     "output_type": "display_data"
    },
    {
     "name": "stdout",
     "output_type": "stream",
     "text": [
      "   m2m  Count  Percent\n",
      "1    1   2160    54.78\n",
      "0    0   1783    45.22\n",
      "_________________________________________________________________\n"
     ]
    },
    {
     "data": {
      "image/png": "[encoded data removed]",
      "text/plain": [
       "<Figure size 144x144 with 1 Axes>"
      ]
     },
     "metadata": {
      "needs_background": "light"
     },
     "output_type": "display_data"
    },
    {
     "name": "stdout",
     "output_type": "stream",
     "text": [
      "   is_senior  Count  Percent\n",
      "0          0   3261     82.7\n",
      "1          1    682     17.3\n",
      "_________________________________________________________________\n"
     ]
    },
    {
     "data": {
      "image/png": "[encoded data removed]",
      "text/plain": [
       "<Figure size 144x144 with 1 Axes>"
      ]
     },
     "metadata": {
      "needs_background": "light"
     },
     "output_type": "display_data"
    },
    {
     "name": "stdout",
     "output_type": "stream",
     "text": [
      "   churned  Count  Percent\n",
      "0        0   2897    73.47\n",
      "1        1   1046    26.53\n",
      "_________________________________________________________________\n"
     ]
    },
    {
     "data": {
      "image/png": "[encoded data removed]",
      "text/plain": [
       "<Figure size 144x144 with 1 Axes>"
      ]
     },
     "metadata": {
      "needs_background": "light"
     },
     "output_type": "display_data"
    },
    {
     "name": "stdout",
     "output_type": "stream",
     "text": [
      "   partner  Count  Percent\n",
      "0        0   2066     52.4\n",
      "1        1   1877     47.6\n",
      "_________________________________________________________________\n"
     ]
    },
    {
     "data": {
      "image/png": "[encoded data removed]",
      "text/plain": [
       "<Figure size 144x144 with 1 Axes>"
      ]
     },
     "metadata": {
      "needs_background": "light"
     },
     "output_type": "display_data"
    },
    {
     "name": "stdout",
     "output_type": "stream",
     "text": [
      "   dependents  Count  Percent\n",
      "0           1   2763    70.07\n",
      "1           0   1180    29.93\n",
      "_________________________________________________________________\n"
     ]
    },
    {
     "data": {
      "image/png": "[encoded data removed]",
      "text/plain": [
       "<Figure size 144x144 with 1 Axes>"
      ]
     },
     "metadata": {
      "needs_background": "light"
     },
     "output_type": "display_data"
    },
    {
     "name": "stdout",
     "output_type": "stream",
     "text": [
      "   phone_service  Count  Percent\n",
      "1              1   3584     90.9\n",
      "0              0    359      9.1\n",
      "_________________________________________________________________\n"
     ]
    },
    {
     "data": {
      "image/png": "[encoded data removed]",
      "text/plain": [
       "<Figure size 144x144 with 1 Axes>"
      ]
     },
     "metadata": {
      "needs_background": "light"
     },
     "output_type": "display_data"
    },
    {
     "name": "stdout",
     "output_type": "stream",
     "text": [
      "   online_security  Count  Percent\n",
      "0                0   2812    71.32\n",
      "1                1   1131    28.68\n",
      "_________________________________________________________________\n"
     ]
    },
    {
     "data": {
      "image/png": "[encoded data removed]",
      "text/plain": [
       "<Figure size 144x144 with 1 Axes>"
      ]
     },
     "metadata": {
      "needs_background": "light"
     },
     "output_type": "display_data"
    },
    {
     "name": "stdout",
     "output_type": "stream",
     "text": [
      "   online_backup  Count  Percent\n",
      "0              0   2600    65.94\n",
      "1              1   1343    34.06\n",
      "_________________________________________________________________\n"
     ]
    },
    {
     "data": {
      "image/png": "[encoded data removed]",
      "text/plain": [
       "<Figure size 144x144 with 1 Axes>"
      ]
     },
     "metadata": {
      "needs_background": "light"
     },
     "output_type": "display_data"
    },
    {
     "name": "stdout",
     "output_type": "stream",
     "text": [
      "   device_protection  Count  Percent\n",
      "0                  0   2568    65.13\n",
      "1                  1   1375    34.87\n",
      "_________________________________________________________________\n"
     ]
    },
    {
     "data": {
      "image/png": "[encoded data removed]",
      "text/plain": [
       "<Figure size 144x144 with 1 Axes>"
      ]
     },
     "metadata": {
      "needs_background": "light"
     },
     "output_type": "display_data"
    },
    {
     "name": "stdout",
     "output_type": "stream",
     "text": [
      "   tech_support  Count  Percent\n",
      "0             1   2779    70.48\n",
      "1             0   1164    29.52\n",
      "_________________________________________________________________\n"
     ]
    },
    {
     "data": {
      "image/png": "[encoded data removed]",
      "text/plain": [
       "<Figure size 144x144 with 1 Axes>"
      ]
     },
     "metadata": {
      "needs_background": "light"
     },
     "output_type": "display_data"
    },
    {
     "name": "stdout",
     "output_type": "stream",
     "text": [
      "   autopayment  Count  Percent\n",
      "0            1   2240    56.81\n",
      "1            0   1703    43.19\n",
      "_________________________________________________________________\n"
     ]
    },
    {
     "data": {
      "image/png": "[encoded data removed]",
      "text/plain": [
       "<Figure size 576x144 with 2 Axes>"
      ]
     },
     "metadata": {
      "needs_background": "light"
     },
     "output_type": "display_data"
    },
    {
     "name": "stdout",
     "output_type": "stream",
     "text": [
      "count    3943.000000\n",
      "mean       32.324372\n",
      "std        24.569279\n",
      "min         0.000000\n",
      "25%         9.000000\n",
      "50%        29.000000\n",
      "75%        55.000000\n",
      "max        72.000000\n",
      "Name: tenure, dtype: float64\n"
     ]
    },
    {
     "data": {
      "image/png": "[encoded data removed]",
      "text/plain": [
       "<Figure size 576x144 with 2 Axes>"
      ]
     },
     "metadata": {
      "needs_background": "light"
     },
     "output_type": "display_data"
    },
    {
     "name": "stdout",
     "output_type": "stream",
     "text": [
      "count    3943.000000\n",
      "mean       65.150710\n",
      "std        30.030427\n",
      "min        18.250000\n",
      "25%        36.475000\n",
      "50%        70.700000\n",
      "75%        89.950000\n",
      "max       118.750000\n",
      "Name: monthly_charges, dtype: float64\n"
     ]
    }
   ],
   "source": [
    "#list all categorical variables and quatintative variables for exploration within the train df.\n",
    "cat_vars = ['fiber', 'm2m', 'is_senior', 'churned', 'partner', 'dependents', 'phone_service',\n",
    "           'online_security', 'online_backup', 'device_protection', 'tech_support', 'autopayment']\n",
    "quant_vars = ['tenure', 'monthly_charges']\n",
    "#variable histograms\n",
    "explore.explore_univariate(train, cat_vars, quant_vars)"
   ]
  },
  {
   "cell_type": "markdown",
   "id": "eb16e554",
   "metadata": {},
   "source": [
    "##### TAKEAWAYS\n",
    "    8/28/2021\n",
    "    - 44.43% (1752) of customers are on fiber\n",
    "    - 54.78% (2160) of customers are m2m \n",
    "    - 82.7% (3261) of customers are not seniors\n",
    "    - 26.53% (1046) of customers churned\n",
    "    - is_male is an even distribution. DROPPED this column.\n",
    "    - Customers with a 'partner' similarly divided (47.6 & 52.6 respectively)\n",
    "    - Customers with 'dependents' account for 70.1%\n",
    "    - Customers with 'phone_service_ account' for 91%\n",
    "    - autopayment accounts for 56.81% (2240) of customers 43.19% (1703) are not on autopayment.\n",
    "    - phone and internet services will be used at a later time.\n",
    "    - average tenure 32.32%\n",
    "    - average monthly_charges 65.15%\n",
    "    \n",
    "    -Initial assessment during prepare stage of the pipeline.\n",
    "        - m2m - 2160 or 55%, 1 year - 811 or 21%, 2 year - 972 or 24%\n",
    "            *change contract type to m2m (yes or no) and drop one and two year contracts.\n",
    "            *assumption is that if it is not m2m plan all others are on a contract.\n",
    "        - payment type - change to autopayment and drop 'credit_card', 'bank_transfer', check' and 'e_check'\n",
    "        -interent type:\n",
    "            *change internet type to fiber (Yes or No).\n",
    "            *Because there was only 61 customers with no internet that churned as validated in the Bivariate stats below.\n",
    "            *assumption, based on hypothesis, is that a customer is on fiber or not on fiber. "
   ]
  },
  {
   "cell_type": "markdown",
   "id": "9fd4fd42",
   "metadata": {},
   "source": [
    "# Hypothesis Testing"
   ]
  },
  {
   "cell_type": "code",
   "execution_count": null,
   "id": "7f3e5f7b",
   "metadata": {},
   "outputs": [],
   "source": []
  },
  {
   "cell_type": "markdown",
   "id": "583da49f",
   "metadata": {},
   "source": [
    "#### Bivariate Stats\n",
    "\n",
    "    1. Plot the interaction of each variable with the target. \n",
    "    \n",
    "    2. Document takeaways.\n",
    "\n",
    "    3. Explore interation of independent variables using viz and/or hypothesis testing to address interdependence."
   ]
  },
  {
   "cell_type": "code",
   "execution_count": 6,
   "id": "30a1fea7",
   "metadata": {},
   "outputs": [
    {
     "name": "stdout",
     "output_type": "stream",
     "text": [
      "fiber \n",
      "_____________________\n",
      "\n",
      "         chi2       p-value  degrees of freedom\n",
      "0  363.780774  4.230027e-81                   1\n",
      "\n",
      "observed:\n",
      " churned     0     1   All\n",
      "fiber                    \n",
      "0        1873   318  2191\n",
      "1        1024   728  1752\n",
      "All      2897  1046  3943\n",
      "\n",
      "expected:\n",
      "              0           1\n",
      "0  1609.770987  581.229013\n",
      "1  1287.229013  464.770987\n"
     ]
    },
    {
     "data": {
      "image/png": "[encoded data removed]",
      "text/plain": [
       "<Figure size 144x144 with 1 Axes>"
      ]
     },
     "metadata": {
      "needs_background": "light"
     },
     "output_type": "display_data"
    },
    {
     "name": "stdout",
     "output_type": "stream",
     "text": [
      "\n",
      "_____________________\n",
      "\n",
      "m2m \n",
      "_____________________\n",
      "\n",
      "         chi2        p-value  degrees of freedom\n",
      "0  663.836694  2.187516e-146                   1\n",
      "\n",
      "observed:\n",
      " churned     0     1   All\n",
      "m2m                      \n",
      "0        1666   117  1783\n",
      "1        1231   929  2160\n",
      "All      2897  1046  3943\n",
      "\n",
      "expected:\n",
      "              0           1\n",
      "0  1310.005326  472.994674\n",
      "1  1586.994674  573.005326\n"
     ]
    },
    {
     "data": {
      "image/png": "[encoded data removed]",
      "text/plain": [
       "<Figure size 144x144 with 1 Axes>"
      ]
     },
     "metadata": {
      "needs_background": "light"
     },
     "output_type": "display_data"
    },
    {
     "name": "stdout",
     "output_type": "stream",
     "text": [
      "\n",
      "_____________________\n",
      "\n",
      "is_senior \n",
      "_____________________\n",
      "\n",
      "        chi2       p-value  degrees of freedom\n",
      "0  90.198518  2.154234e-21                   1\n",
      "\n",
      "observed:\n",
      " churned       0     1   All\n",
      "is_senior                  \n",
      "0          2496   765  3261\n",
      "1           401   281   682\n",
      "All        2897  1046  3943\n",
      "\n",
      "expected:\n",
      "              0           1\n",
      "0  2395.921126  865.078874\n",
      "1   501.078874  180.921126\n"
     ]
    },
    {
     "data": {
      "image/png": "[encoded data removed]",
      "text/plain": [
       "<Figure size 144x144 with 1 Axes>"
      ]
     },
     "metadata": {
      "needs_background": "light"
     },
     "output_type": "display_data"
    },
    {
     "name": "stdout",
     "output_type": "stream",
     "text": [
      "\n",
      "_____________________\n",
      "\n",
      "partner \n",
      "_____________________\n",
      "\n",
      "        chi2       p-value  degrees of freedom\n",
      "0  99.970619  1.546747e-23                   1\n",
      "\n",
      "observed:\n",
      " churned     0     1   All\n",
      "partner                  \n",
      "0        1379   687  2066\n",
      "1        1518   359  1877\n",
      "All      2897  1046  3943\n",
      "\n",
      "expected:\n",
      "              0           1\n",
      "0  1517.931017  548.068983\n",
      "1  1379.068983  497.931017\n"
     ]
    },
    {
     "data": {
      "image/png": "[encoded data removed]",
      "text/plain": [
       "<Figure size 144x144 with 1 Axes>"
      ]
     },
     "metadata": {
      "needs_background": "light"
     },
     "output_type": "display_data"
    },
    {
     "name": "stdout",
     "output_type": "stream",
     "text": [
      "\n",
      "_____________________\n",
      "\n",
      "dependents \n",
      "_____________________\n",
      "\n",
      "         chi2       p-value  degrees of freedom\n",
      "0  104.107639  1.916180e-24                   1\n",
      "\n",
      "observed:\n",
      " churned        0     1   All\n",
      "dependents                  \n",
      "0           1900   863  2763\n",
      "1            997   183  1180\n",
      "All         2897  1046  3943\n",
      "\n",
      "expected:\n",
      "              0           1\n",
      "0  2030.030687  732.969313\n",
      "1   866.969313  313.030687\n"
     ]
    },
    {
     "data": {
      "image/png": "[encoded data removed]",
      "text/plain": [
       "<Figure size 144x144 with 1 Axes>"
      ]
     },
     "metadata": {
      "needs_background": "light"
     },
     "output_type": "display_data"
    },
    {
     "name": "stdout",
     "output_type": "stream",
     "text": [
      "\n",
      "_____________________\n",
      "\n",
      "phone_service \n",
      "_____________________\n",
      "\n",
      "       chi2   p-value  degrees of freedom\n",
      "0  0.001099  0.973553                   1\n",
      "\n",
      "observed:\n",
      " churned           0     1   All\n",
      "phone_service                  \n",
      "0               264    95   359\n",
      "1              2633   951  3584\n",
      "All            2897  1046  3943\n",
      "\n",
      "expected:\n",
      "              0           1\n",
      "0   263.764393   95.235607\n",
      "1  2633.235607  950.764393\n"
     ]
    },
    {
     "data": {
      "image/png": "[encoded data removed]",
      "text/plain": [
       "<Figure size 144x144 with 1 Axes>"
      ]
     },
     "metadata": {
      "needs_background": "light"
     },
     "output_type": "display_data"
    },
    {
     "name": "stdout",
     "output_type": "stream",
     "text": [
      "\n",
      "_____________________\n",
      "\n",
      "online_security \n",
      "_____________________\n",
      "\n",
      "         chi2       p-value  degrees of freedom\n",
      "0  132.877053  9.618794e-31                   1\n",
      "\n",
      "observed:\n",
      " churned             0     1   All\n",
      "online_security                  \n",
      "0                1921   891  2812\n",
      "1                 976   155  1131\n",
      "All              2897  1046  3943\n",
      "\n",
      "expected:\n",
      "              0           1\n",
      "0  2066.031955  745.968045\n",
      "1   830.968045  300.031955\n"
     ]
    },
    {
     "data": {
      "image/png": "[encoded data removed]",
      "text/plain": [
       "<Figure size 144x144 with 1 Axes>"
      ]
     },
     "metadata": {
      "needs_background": "light"
     },
     "output_type": "display_data"
    },
    {
     "name": "stdout",
     "output_type": "stream",
     "text": [
      "\n",
      "_____________________\n",
      "\n",
      "online_backup \n",
      "_____________________\n",
      "\n",
      "        chi2       p-value  degrees of freedom\n",
      "0  33.262971  8.050100e-09                   1\n",
      "\n",
      "observed:\n",
      " churned           0     1   All\n",
      "online_backup                  \n",
      "0              1834   766  2600\n",
      "1              1063   280  1343\n",
      "All            2897  1046  3943\n",
      "\n",
      "expected:\n",
      "              0           1\n",
      "0  1910.271367  689.728633\n",
      "1   986.728633  356.271367\n"
     ]
    },
    {
     "data": {
      "image/png": "[encoded data removed]",
      "text/plain": [
       "<Figure size 144x144 with 1 Axes>"
      ]
     },
     "metadata": {
      "needs_background": "light"
     },
     "output_type": "display_data"
    },
    {
     "name": "stdout",
     "output_type": "stream",
     "text": [
      "\n",
      "_____________________\n",
      "\n",
      "device_protection \n",
      "_____________________\n",
      "\n",
      "        chi2       p-value  degrees of freedom\n",
      "0  26.695574  2.381665e-07                   1\n",
      "\n",
      "observed:\n",
      " churned               0     1   All\n",
      "device_protection                  \n",
      "0                  1818   750  2568\n",
      "1                  1079   296  1375\n",
      "All                2897  1046  3943\n",
      "\n",
      "expected:\n",
      "              0           1\n",
      "0  1886.760335  681.239665\n",
      "1  1010.239665  364.760335\n"
     ]
    },
    {
     "data": {
      "image/png": "[encoded data removed]",
      "text/plain": [
       "<Figure size 144x144 with 1 Axes>"
      ]
     },
     "metadata": {
      "needs_background": "light"
     },
     "output_type": "display_data"
    },
    {
     "name": "stdout",
     "output_type": "stream",
     "text": [
      "\n",
      "_____________________\n",
      "\n",
      "tech_support \n",
      "_____________________\n",
      "\n",
      "        chi2       p-value  degrees of freedom\n",
      "0  96.606082  8.458805e-23                   1\n",
      "\n",
      "observed:\n",
      " churned          0     1   All\n",
      "tech_support                  \n",
      "0             1917   862  2779\n",
      "1              980   184  1164\n",
      "All           2897  1046  3943\n",
      "\n",
      "expected:\n",
      "              0           1\n",
      "0  2041.786203  737.213797\n",
      "1   855.213797  308.786203\n"
     ]
    },
    {
     "data": {
      "image/png": "[encoded data removed]",
      "text/plain": [
       "<Figure size 144x144 with 1 Axes>"
      ]
     },
     "metadata": {
      "needs_background": "light"
     },
     "output_type": "display_data"
    },
    {
     "name": "stdout",
     "output_type": "stream",
     "text": [
      "\n",
      "_____________________\n",
      "\n",
      "autopayment \n",
      "_____________________\n",
      "\n",
      "         chi2       p-value  degrees of freedom\n",
      "0  182.036408  1.741018e-41                   1\n",
      "\n",
      "observed:\n",
      " churned         0     1   All\n",
      "autopayment                  \n",
      "0            1460   780  2240\n",
      "1            1437   266  1703\n",
      "All          2897  1046  3943\n",
      "\n",
      "expected:\n",
      "              0           1\n",
      "0  1645.772255  594.227745\n",
      "1  1251.227745  451.772255\n"
     ]
    },
    {
     "data": {
      "image/png": "[encoded data removed]",
      "text/plain": [
       "<Figure size 144x144 with 1 Axes>"
      ]
     },
     "metadata": {
      "needs_background": "light"
     },
     "output_type": "display_data"
    },
    {
     "name": "stdout",
     "output_type": "stream",
     "text": [
      "\n",
      "_____________________\n",
      "\n",
      "tenure \n",
      "____________________\n",
      "\n"
     ]
    },
    {
     "data": {
      "image/png": "[encoded data removed]",
      "text/plain": [
       "<Figure size 288x288 with 1 Axes>"
      ]
     },
     "metadata": {
      "needs_background": "light"
     },
     "output_type": "display_data"
    },
    {
     "name": "stdout",
     "output_type": "stream",
     "text": [
      "          count       mean        std  min   25%   50%    75%   max\n",
      "churned                                                            \n",
      "0        2897.0  37.733517  24.071015  0.0  15.0  38.0  61.00  72.0\n",
      "1        1046.0  17.343212  19.121415  1.0   2.0   9.0  27.75  72.0 \n",
      "\n",
      "\n",
      "Mann-Whitney Test:\n",
      " MannwhitneyuResult(statistic=2271196.5, pvalue=5.796579997877841e-127)\n",
      "\n",
      "____________________\n",
      "\n",
      "monthly_charges \n",
      "____________________\n",
      "\n"
     ]
    },
    {
     "data": {
      "image/png": "[encoded data removed]",
      "text/plain": [
       "<Figure size 288x288 with 1 Axes>"
      ]
     },
     "metadata": {
      "needs_background": "light"
     },
     "output_type": "display_data"
    },
    {
     "name": "stdout",
     "output_type": "stream",
     "text": [
      "          count       mean        std    min      25%    50%    75%     max\n",
      "churned                                                                    \n",
      "0        2897.0  61.850846  31.160324  18.25  25.2000  65.25  89.10  118.75\n",
      "1        1046.0  74.290010  24.439527  18.95  56.3125  79.55  93.85  118.35 \n",
      "\n",
      "\n",
      "Mann-Whitney Test:\n",
      " MannwhitneyuResult(statistic=1176266.5, pvalue=6.775715811014378e-27)\n",
      "\n",
      "____________________\n",
      "\n"
     ]
    }
   ],
   "source": [
    "#removed target 'churned'\n",
    "cat_vars = ['fiber', 'm2m', 'is_senior', 'partner', 'dependents', 'phone_service',\n",
    "            'online_security', 'online_backup', 'device_protection', 'tech_support', 'autopayment']\n",
    "quant_vars = ['tenure', 'monthly_charges']\n",
    "explore.explore_bivariate(train, 'churned', cat_vars, quant_vars)"
   ]
  },
  {
   "cell_type": "markdown",
   "id": "78beafd4",
   "metadata": {},
   "source": [
    "##### TAKEAWAYS\n",
    "    8/28/2021\n",
    "  -ON ALL Trained data\n",
    "  \n",
    "     - Number of fiber (728)  customers who churned.\n",
    "       * what is about our fiber internet service is making customers churn?\n",
    "       * Less people churn on DSL (257) then on fiber...possible validation that fiber service needs work.\n",
    "       * DROP no_internet. Only 61 customers who do not have internet churn.\n",
    "       HYPOTHESIS: Customers on fiber are more likely to churn than those customers not on fiber. ****convert Fiber and DSL into one column - Fiber(Yes or No) and encode.\n",
    "       *****AND what internet services fiber customers have AND do they affect churn.\n",
    "       * The new fiber becomes a feature\n",
    "       * test hyp\n",
    "\n",
    "    - 90.5% (929/1231) of customers in the first month churn than any other month\n",
    "        HYPOTHESIS: Customers are more than likely to churn in the first month of service than any other customer.\n",
    "        \n",
    "    - senior_citizen:\n",
    "        HYPOTHESIS: Customers who are NOT senior citizens (765) are more likely to churn than senior citizens (281).\n",
    " \n",
    "    - Between 'partner' and 'dependents' less single (no_d_863-no_p_687=176) customers churn then not single people (p_359 + d_183 = 542).\n",
    "    \n",
    "    - Phone service:\n",
    "        HYPOTHESIS: Customers with phone_service (951) are more likely to churn than those that do not have phone_service?\n",
    "            ***DROP multiple_lines. It is evenly weighed and does not have an impact on phone_services.\n",
    "            \n",
    "    - Interent services: DROP streaming services. Streaming services are eveningly weighed and will not affect intenert services and churn.\n",
    "        \n",
    "    - Payment type:\n",
    "        * converted payment type to autopayment (Yes or No). Assumption is that customers are either on or not on an autopayment plan.can I call you\n",
    "        HYPOTHESIS: Customers enrolled in automatic payment plan (266) are less likely to churn than those customers NOT enrolled in the automatic payment plan (780).\n",
    "\n",
    "    - Lower tenure more churn.\n",
    "    - Higher monthly payments more churn.\n",
    "\n",
    "  \n",
    "    \n",
    "    - Contract type:\n",
    "        * combine  m2m, 1, and 2 year contracts to a single column titled 'm2m' and encode.\n",
    "        HYPOTHESIS: m2m churn is greater than those customers not on m2m plan.\n",
    "        ---------------------------------------------\n",
    "    QUESTIONS:\n",
    "        1. Why do customers on fiber churn more?\n",
    "        2. Why do customers churn more in the first month than any other month?\n",
    "        3. Why do non single customers (with partner or dependents) churn more then single customers?\n",
    "        4. Why do younger customers churn more than older customers?\n",
    "        5. Why do customers on m2m plans churn more than those customers on contracts?\n",
    "        6. Why do customers enrolled in autopayments churn less than those customers not enrolled in an autopayment?\n",
    "        7. Why do customers churn more with phone services?\n",
    "        \n",
    "        * What do these questions all have in common?\n",
    "       ** What is the cost per month of a younger customers who is not single, has phone services and fiber, on a m2m plan, enrolled in an autopayment plan?\n",
    "       \n",
    "       *** FINAL HYPOTHESIS: Customers who are young, not single, on fiber, has phone service, on m2m, and not enrolled in a autopayment plan are more likely to churn than those customers that do not fall in this category.\n",
    "        \n",
    "        MY FEATURES: fiber (YES), tenure (1 month), single (NO), senior citizen (NO), m2m (YES), autopayments (NO), phone_service (YES)\n",
    "        \n",
    "        Test and validate HYPOTHESIS(reject or fail to reject final hypothesis)\n",
    "_________________________________________________\n",
    "\n",
    "\n",
    "Recommendation:???\n",
    "    _Churn in one month (213)_\n",
    "        * Incentive...\n",
    "            - 1 month free service for m2m customers?\n",
    "            - Free upgrade service for signing a one_year contract?\n",
    "            - Free premium service for two year contract?\n",
    "        * Create a graph that shows churn over tenure."
   ]
  },
  {
   "cell_type": "markdown",
   "id": "7e2aae3d",
   "metadata": {},
   "source": [
    "#### Multivariate Stats\n",
    "\n",
    "    1. How subgroups compare to each-other and to the overall population. \n",
    "    \n",
    "    2. Answer questions using visualizations and/or hypothesis testing.\n",
    "    \n",
    "    (Here I can test some of my questions...reference Exploratory Analysis\n",
    "\n",
    "    _ Need to drop some columns for the multivariate stats."
   ]
  },
  {
   "cell_type": "code",
   "execution_count": null,
   "id": "74447f02",
   "metadata": {},
   "outputs": [],
   "source": [
    "target = 'churned'\n",
    "explore.explore_multivariate(train, target, cat_vars, quant_vars)"
   ]
  },
  {
   "cell_type": "markdown",
   "id": "1d91ef02",
   "metadata": {},
   "source": [
    "##### TAKEAWAYS"
   ]
  },
  {
   "cell_type": "markdown",
   "id": "a108c0e5",
   "metadata": {},
   "source": [
    "# Modeling"
   ]
  },
  {
   "cell_type": "markdown",
   "id": "14bd4d23",
   "metadata": {},
   "source": [
    "### Decision Tree"
   ]
  },
  {
   "cell_type": "code",
   "execution_count": null,
   "id": "2779954d",
   "metadata": {},
   "outputs": [],
   "source": [
    "#create the model\n",
    "\n",
    "#for classification you can change the algorithm to gini or entropy (information gain).  \n",
    "#Default is gini.\n",
    "\n",
    "model = DecisionTreeClassifier(max_depth=1, random_state=123)"
   ]
  },
  {
   "cell_type": "code",
   "execution_count": null,
   "id": "ae337ab5",
   "metadata": {},
   "outputs": [],
   "source": [
    "#Fit the model\n",
    "\n",
    "model = model.fit(X_train, y_train)"
   ]
  },
  {
   "cell_type": "markdown",
   "id": "ee0cbf61",
   "metadata": {},
   "source": [
    "#### Make predictions"
   ]
  },
  {
   "cell_type": "code",
   "execution_count": null,
   "id": "ffccfe27",
   "metadata": {},
   "outputs": [],
   "source": [
    "#Use the model\n",
    "\n",
    "# We'll evaluate the model's performance on train, first\n",
    "\n",
    "y_predictions = model.predict(X_train)\n",
    "y_predictions = [0:5]"
   ]
  },
  {
   "cell_type": "markdown",
   "id": "314030cd",
   "metadata": {},
   "source": [
    "#### Estimate probability"
   ]
  },
  {
   "cell_type": "code",
   "execution_count": null,
   "id": "41a113f9",
   "metadata": {},
   "outputs": [],
   "source": [
    "y_pred_proba = model.predict_proba(X_train)\n",
    "y_pred_proba[0:5]"
   ]
  },
  {
   "cell_type": "markdown",
   "id": "dc40299a",
   "metadata": {},
   "source": [
    "#### Compute accuracy"
   ]
  },
  {
   "cell_type": "code",
   "execution_count": null,
   "id": "77736b57",
   "metadata": {},
   "outputs": [],
   "source": [
    "print('Accuracy of Decision Tree classifier on training set: {:.2f}'\n",
    "      .format(model.score(X_train, y_train)))"
   ]
  },
  {
   "cell_type": "markdown",
   "id": "e8ab200f",
   "metadata": {},
   "source": [
    "#### Confusion matrix\n",
    "\n",
    "TP\n",
    "TN\n",
    "FP\n",
    "FN"
   ]
  },
  {
   "cell_type": "code",
   "execution_count": null,
   "id": "e1601e83",
   "metadata": {},
   "outputs": [],
   "source": [
    "confusion_matrix(y_train, y_pred)"
   ]
  },
  {
   "cell_type": "code",
   "execution_count": null,
   "id": "a666cf65",
   "metadata": {},
   "outputs": [],
   "source": [
    "y_train.value_counts()"
   ]
  },
  {
   "cell_type": "code",
   "execution_count": null,
   "id": "089ff62b",
   "metadata": {},
   "outputs": [],
   "source": [
    "labels = sorted(y_train.unique())\n",
    "\n",
    "pd.DataFrame(confusion_matrix(y_train, y_pred), index=labels, columns=labels)\n"
   ]
  },
  {
   "cell_type": "code",
   "execution_count": null,
   "id": "3d6137a5",
   "metadata": {},
   "outputs": [],
   "source": [
    "print(classification_report(y_train, y_pred))"
   ]
  },
  {
   "cell_type": "markdown",
   "id": "c1e94fda",
   "metadata": {},
   "source": [
    "#### Evaluate the Model with our Validate dataset"
   ]
  },
  {
   "cell_type": "code",
   "execution_count": null,
   "id": "3446adaa",
   "metadata": {},
   "outputs": [],
   "source": [
    "print('Accuracy of Decision Tree classifier on validate set: {:.2f}'\n",
    "     .format(clf.score(X_validate, y_validate)))"
   ]
  },
  {
   "cell_type": "code",
   "execution_count": null,
   "id": "cf21a3bd",
   "metadata": {},
   "outputs": [],
   "source": [
    "# And since accuracy isn't everything\n",
    "\n",
    "# Produce y_predictions that come from the X_validate\n",
    "y_pred = model.predict(X_validate)\n",
    "\n",
    "# Compare actual y values (from validate) to predicted y_values from the model run on X_validate\n",
    "print(classification_report(y_validate, y_pred))"
   ]
  },
  {
   "cell_type": "code",
   "execution_count": null,
   "id": "3186d7b2",
   "metadata": {},
   "outputs": [],
   "source": [
    "# Produce the classification report on the actual y values and this model's predicted y values\n",
    "report = classification_report(y_train, y_predictions, output_dict=True)\n",
    "print(\"Tree of 1 depth\")\n",
    "pd.DataFrame(report)"
   ]
  },
  {
   "cell_type": "markdown",
   "id": "547b6a1f",
   "metadata": {},
   "source": [
    "### Random Forrest"
   ]
  },
  {
   "cell_type": "code",
   "execution_count": null,
   "id": "f0a19aaa",
   "metadata": {},
   "outputs": [],
   "source": [
    "#Create the Model\n",
    "rf = RandomForestClassifier(bootstrap=True, class_weight=None, criterion='gini', min_samples_leaf=1, n_estimators=100,\n",
    "                            max_depth=10, \n",
    "                            random_state=123)"
   ]
  },
  {
   "cell_type": "code",
   "execution_count": null,
   "id": "67316071",
   "metadata": {},
   "outputs": [],
   "source": [
    "#Fit the Model\n",
    "rf.fit(X_train, y_train)"
   ]
  },
  {
   "cell_type": "code",
   "execution_count": null,
   "id": "27402cab",
   "metadata": {},
   "outputs": [],
   "source": [
    "#Use the Model\n",
    "#evaluate the weight\n",
    "print(rf.feature_importances_)"
   ]
  },
  {
   "cell_type": "code",
   "execution_count": null,
   "id": "90834024",
   "metadata": {},
   "outputs": [],
   "source": [
    "#estimate\n",
    "y_pred = rf.predict(X_train)"
   ]
  },
  {
   "cell_type": "code",
   "execution_count": null,
   "id": "1adae52a",
   "metadata": {},
   "outputs": [],
   "source": [
    "#probability\n",
    "y_pred_proba = rf.predict_proba(X_train)"
   ]
  },
  {
   "cell_type": "code",
   "execution_count": null,
   "id": "cf2bb01f",
   "metadata": {},
   "outputs": [],
   "source": [
    "#accuracy\n",
    "print('Accuracy of random forest classifier on training set: {:.2f}'.format(rf.score(X_train, y_train)))"
   ]
  },
  {
   "cell_type": "code",
   "execution_count": null,
   "id": "1014fbe7",
   "metadata": {},
   "outputs": [],
   "source": [
    "#confusion matrix\n",
    "print(confusion_matrix(y_train, y_pred))"
   ]
  },
  {
   "cell_type": "code",
   "execution_count": null,
   "id": "907107ac",
   "metadata": {},
   "outputs": [],
   "source": [
    "#Create a classificaiton report\n",
    "print(classification_report(y_train, y_pred))"
   ]
  },
  {
   "cell_type": "code",
   "execution_count": null,
   "id": "0d1d0fbb",
   "metadata": {},
   "outputs": [],
   "source": [
    "print('Accuracy of random forest classifier on test set: {:.2f}'.format(rf.score(X_validate, y_validate)))"
   ]
  },
  {
   "cell_type": "markdown",
   "id": "e0e621a0",
   "metadata": {},
   "source": [
    "### KNN"
   ]
  },
  {
   "cell_type": "code",
   "execution_count": null,
   "id": "82d052e2",
   "metadata": {},
   "outputs": [],
   "source": [
    "#Create the model\n",
    "# weights = ['uniform', 'density']\n",
    "knn = KNeighborsClassifier(n_neighbors=5, weights='uniform')"
   ]
  },
  {
   "cell_type": "code",
   "execution_count": null,
   "id": "69d34f5b",
   "metadata": {},
   "outputs": [],
   "source": [
    "#fit the model\n",
    "knn.fit(X_train, y_train)"
   ]
  },
  {
   "cell_type": "code",
   "execution_count": null,
   "id": "57004d85",
   "metadata": {},
   "outputs": [],
   "source": [
    "#predict/use the model\n",
    "y_pred = knn.predict(X_train)"
   ]
  },
  {
   "cell_type": "code",
   "execution_count": null,
   "id": "cbc5642e",
   "metadata": {},
   "outputs": [],
   "source": [
    "#probability\n",
    "y_pred_proba = knn.predict_proba(X_train)"
   ]
  },
  {
   "cell_type": "code",
   "execution_count": null,
   "id": "88c15f98",
   "metadata": {},
   "outputs": [],
   "source": [
    "#accuracy\n",
    "print('Accuracy of KNN classifier on training set: {:.2f}'.format(knn.score(X_train, y_train)))"
   ]
  },
  {
   "cell_type": "code",
   "execution_count": null,
   "id": "dc3d7eee",
   "metadata": {},
   "outputs": [],
   "source": [
    "#confusion matrix\n",
    "print(confusion_matrix(y_train, y_pred))"
   ]
  },
  {
   "cell_type": "code",
   "execution_count": null,
   "id": "16988733",
   "metadata": {},
   "outputs": [],
   "source": [
    "print(classification_report(y_train, y_pred))"
   ]
  },
  {
   "cell_type": "code",
   "execution_count": null,
   "id": "6cb82509",
   "metadata": {},
   "outputs": [],
   "source": [
    "#validate\n",
    "print('Accuracy of KNN classifier on test set: {:.2f}'.format(knn.score(X_validate, y_validate)))"
   ]
  },
  {
   "cell_type": "markdown",
   "id": "7d25faf8",
   "metadata": {},
   "source": [
    "# Conclusion\n",
    "\n",
    "    - What we don't know:\n",
    "        * How plans relate to cost. i.e. phone to service plans\n",
    "        * How service plans (online security, online backup, tech support, device protection, and streaming services) relates to cost.\n",
    "        * Cost of one line, cost of multiple lines (what is multiple lines? Is it 2, 3, 4, or more) and how that relates to cost."
   ]
  },
  {
   "cell_type": "code",
   "execution_count": null,
   "id": "6a8d288a",
   "metadata": {},
   "outputs": [],
   "source": [
    "# create X & y version of train, where y is a series with just the target variable and X are all the features.\n",
    "X_train = train.drop(columns=[\"churned\"])\n",
    "y_train = train.churned\n",
    "\n",
    "X_validate = validate.drop(columns=[\"churned\"])\n",
    "y_validate = validate.churned\n",
    "\n",
    "X_test = test.drop(columns=[\"churned\"])\n",
    "y_test = test.churned"
   ]
  },
  {
   "cell_type": "code",
   "execution_count": null,
   "id": "7d048c8f",
   "metadata": {},
   "outputs": [],
   "source": [
    "# create X & y version of train, where y is a series with just the target variable and X are all the features.\n",
    "X_train = train[['fiber','auto_payment']]#features\n",
    "y_train = train.churned#target\n",
    "\n",
    "X_validate = validate[['fiber','auto_payment']]\n",
    "y_validate = validate.churned\n",
    "\n",
    "X_test = test[['fiber','auto_payment']]\n",
    "y_test = test.churned"
   ]
  },
  {
   "cell_type": "code",
   "execution_count": null,
   "id": "232145a4",
   "metadata": {},
   "outputs": [],
   "source": [
    "#Now create the model\n",
    "model1 = DecisionTreeClassifier(max_depth=3, random_state=123)\n",
    "#Fit the model\n",
    "model1.fit(X_train, y_train)\n",
    "#Use the model\n",
    "y_predictions = model1.predict(X_train)\n",
    "# Produce the classification report on the actual y values and this model's predicted y values\n",
    "report = classification_report(y_train, y_predictions, output_dict=True)\n",
    "print(\"Tree of 1 depth\")\n",
    "pd.DataFrame(report)"
   ]
  },
  {
   "cell_type": "code",
   "execution_count": null,
   "id": "149688d4",
   "metadata": {},
   "outputs": [],
   "source": [
    "print('Accuracy of Decision Tree classifier on training set: {:.2f}'.format(model1.score(X_train, y_train)))"
   ]
  },
  {
   "cell_type": "code",
   "execution_count": null,
   "id": "2a84efe7",
   "metadata": {},
   "outputs": [],
   "source": [
    "# The mode is a great baseline\n",
    "baseline = y_train.mode()\n",
    "\n",
    "# Produce a boolean array with True representing a match between the baseline prediction and reality\n",
    "matches_baseline_prediction = y_train == 0\n",
    "\n",
    "baseline_accuracy = matches_baseline_prediction.mean()\n",
    "print(f\"Baseline accuracy: {round(baseline_accuracy, 2)}\")"
   ]
  }
 ],
 "metadata": {
  "kernelspec": {
   "display_name": "Python 3",
   "language": "python",
   "name": "python3"
  },
  "language_info": {
   "codemirror_mode": {
    "name": "ipython",
    "version": 3
   },
   "file_extension": ".py",
   "mimetype": "text/x-python",
   "name": "python",
   "nbconvert_exporter": "python",
   "pygments_lexer": "ipython3",
   "version": "3.8.8"
  }
 },
 "nbformat": 4,
 "nbformat_minor": 5
}
