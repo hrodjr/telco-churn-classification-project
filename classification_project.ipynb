{
 "cells": [
  {
   "cell_type": "code",
   "execution_count": null,
   "id": "3fde4de1",
   "metadata": {},
   "outputs": [],
   "source": [
    "#libraries\n",
    "import acquire\n",
    "import explore\n",
    "import prepare\n",
    "import pandas as pd\n",
    "import numpy as np\n",
    "import seaborn as sns\n",
    "import matplotlib.pyplot as plt\n",
    "import scipy.stats as stats\n",
    "\n",
    "import graphviz\n",
    "from graphviz import Graph\n",
    "\n",
    "#ignore warnings\n",
    "import warnings\n",
    "warnings.filterwarnings('ignore')\n",
    "\n",
    "#sklearn imports\n",
    "from sklearn.model_selection import train_test_split\n",
    "from sklearn.tree import DecisionTreeClassifier\n",
    "from sklearn.tree import export_graphviz\n",
    "from sklearn.metrics import classification_report\n",
    "from sklearn.metrics import confusion_matrix\n",
    "from sklearn.ensemble import RandomForestClassifier\n",
    "from sklearn.neighbors import KNeighborsClassifier"
   ]
  },
  {
   "cell_type": "markdown",
   "id": "a9f8ffb7",
   "metadata": {},
   "source": [
    "# Planning"
   ]
  },
  {
   "cell_type": "markdown",
   "id": "70c81722",
   "metadata": {},
   "source": [
    "### Project description and Goals"
   ]
  },
  {
   "cell_type": "markdown",
   "id": "e9084814",
   "metadata": {},
   "source": [
    "### Working through the pipeline"
   ]
  },
  {
   "cell_type": "markdown",
   "id": "5df165e8",
   "metadata": {},
   "source": [
    "### Data dictionary"
   ]
  },
  {
   "cell_type": "markdown",
   "id": "51e6d2fe",
   "metadata": {},
   "source": [
    "m2m = month-to-month"
   ]
  },
  {
   "cell_type": "markdown",
   "id": "b86254b4",
   "metadata": {},
   "source": [
    "### Starting hypothesis"
   ]
  },
  {
   "cell_type": "markdown",
   "id": "e22096f6",
   "metadata": {},
   "source": [
    "# Data Acquisition"
   ]
  },
  {
   "cell_type": "markdown",
   "id": "bb0f6647",
   "metadata": {},
   "source": [
    "### SQL code used to acquire data from aquire.py"
   ]
  },
  {
   "cell_type": "markdown",
   "id": "bd621321",
   "metadata": {},
   "source": [
    "            SELECT *\\\n",
    "            FROM customers\\\n",
    "            RIGHT JOIN contract_types USING(contract_type_id)\\\n",
    "            RIGHT JOIN internet_service_types USING(internet_service_type_id)\\\n",
    "            RIGHT JOIN payment_types USING(payment_type_id);\""
   ]
  },
  {
   "cell_type": "markdown",
   "id": "c1d07884",
   "metadata": {},
   "source": [
    "### Notes:\n",
    "\n",
    "    - Data acquired from acquire.y module\n",
    "    - Data summarization\n",
    "    - Plot distributions"
   ]
  },
  {
   "cell_type": "markdown",
   "id": "a464dde9",
   "metadata": {},
   "source": [
    "#### Acquire Data"
   ]
  },
  {
   "cell_type": "code",
   "execution_count": null,
   "id": "f97f5b50",
   "metadata": {},
   "outputs": [],
   "source": [
    "#acquire telco data\n",
    "df = acquire.get_telco_data()\n",
    "df.head(2)"
   ]
  },
  {
   "cell_type": "markdown",
   "id": "e0e0de25",
   "metadata": {},
   "source": [
    "#### Data summary"
   ]
  },
  {
   "cell_type": "code",
   "execution_count": null,
   "id": "da493921",
   "metadata": {},
   "outputs": [],
   "source": [
    "#data summarization on all columns\n",
    "intr = df.describe().T\n",
    "obj = df.describe(include='object').T\n",
    "print(intr, obj)"
   ]
  },
  {
   "cell_type": "markdown",
   "id": "8ffb7ca5",
   "metadata": {},
   "source": [
    "#### Data Visualization"
   ]
  },
  {
   "cell_type": "code",
   "execution_count": null,
   "id": "620abd56",
   "metadata": {},
   "outputs": [],
   "source": [
    "#plot charts on acquired data prior to data cleaning.\n",
    "num_cols = df.columns[[df[col].dtype == 'int64' for col in df.columns]]\n",
    "for col in num_cols:\n",
    "    plt.hist(df[col])\n",
    "    plt.title(col)\n",
    "    plt.show()"
   ]
  },
  {
   "cell_type": "code",
   "execution_count": null,
   "id": "eb907432",
   "metadata": {},
   "outputs": [],
   "source": [
    "#value counts on acquired data prior to data cleaning.\n",
    "obj_cols = df.columns[[df[col].dtype == 'O' for col in df.columns]]\n",
    "for col in obj_cols:\n",
    "    print(df[col].value_counts())\n",
    "    print(df[col].value_counts(normalize=True, dropna=False))\n",
    "    print('----------------------')"
   ]
  },
  {
   "cell_type": "markdown",
   "id": "ff22e0aa",
   "metadata": {},
   "source": [
    "# Data preparation"
   ]
  },
  {
   "cell_type": "markdown",
   "id": "e2b61c26",
   "metadata": {},
   "source": [
    "### Data prepared using the prepare.py module. The prepare module contains the following function:\n",
    "    - Splits data for train, validate, test\n",
    "    - Handles missing values\n",
    "    - Handles erroneous and outlier data\n",
    "    - Encodes necessary variables\n",
    "    - Creates necessary features"
   ]
  },
  {
   "cell_type": "markdown",
   "id": "509b2060",
   "metadata": {},
   "source": [
    "### Data prep notes:\n",
    "    - Explore missing values and document takeaways/action plans\n",
    "    - Explore data types and adapt types or data values as needed \n",
    "    - Create necessary new features\n",
    "    - Prep imported from prepare.py"
   ]
  },
  {
   "cell_type": "code",
   "execution_count": null,
   "id": "11a0c811",
   "metadata": {},
   "outputs": [],
   "source": [
    "#clean the data\n",
    "df = prepare.clean_data(df)\n",
    "df.head(1)"
   ]
  },
  {
   "cell_type": "code",
   "execution_count": null,
   "id": "f0953619",
   "metadata": {},
   "outputs": [],
   "source": [
    "#split the date\n",
    "train, validate, test = prepare.train_validate_test_split(df, 'churned')"
   ]
  },
  {
   "cell_type": "code",
   "execution_count": null,
   "id": "d44111d2",
   "metadata": {},
   "outputs": [],
   "source": [
    "#validate the split\n",
    "print(train.shape, validate.shape, test.shape)"
   ]
  },
  {
   "cell_type": "code",
   "execution_count": null,
   "id": "93bbd545",
   "metadata": {},
   "outputs": [],
   "source": [
    "# create X & y version of train, where y is a series with just the target variable and X are all the features.\n",
    "X_train = train.drop(columns=[\"churned\"])\n",
    "y_train = train.churned\n",
    "\n",
    "X_validate = validate.drop(columns=[\"churned\"])\n",
    "y_validate = validate.churned\n",
    "\n",
    "X_test = test.drop(columns=[\"churned\"])\n",
    "y_test = test.churned"
   ]
  },
  {
   "cell_type": "markdown",
   "id": "44c02d14",
   "metadata": {},
   "source": [
    "# Exploration & Analysis"
   ]
  },
  {
   "cell_type": "markdown",
   "id": "f1c883b1",
   "metadata": {},
   "source": [
    "### Analysis notes:\n",
    "    - Answers and document initial hypothesis using a minimum of two statistical tests.\n",
    "    - Visulizations\n",
    "    - Conclusion and takeaway summary"
   ]
  },
  {
   "cell_type": "markdown",
   "id": "54dc5628",
   "metadata": {},
   "source": [
    "### Exploration:\n",
    "    - If a group is identified by tenure, is there a cohort or cohorts who have a higher rate of churn than other cohorts?\n",
    "    - Are there features that indicate a higher propensity to churn\n",
    "    - Is there a price threshold for specific services where the likelihood of churn increases once price for those services goes past that point? If so, what is that point for what service(s)?\n",
    "    - If we looked at churn rate for month-to-month customers after the 12th month and that of 1-year contract customers after the 12th month, are those rates comparable?\n",
    "    - Controlling for services (phone_id, internet_service_type_id, online_security_backup, device_protection, tech_support, and contract_type_id), is the mean monthly_charges of those who have churned significantly different from that of those who have not churned? (Use a t-test to answer this.)\n",
    "    - How much of monthly_charges can be explained by internet_service_type?\n",
    "    - How much of monthly_charges can be explained by internet_service_type + phone_service_type (0, 1, or multiple lines)."
   ]
  },
  {
   "cell_type": "markdown",
   "id": "046b3783",
   "metadata": {},
   "source": [
    "### Univariate Stats"
   ]
  },
  {
   "cell_type": "code",
   "execution_count": null,
   "id": "0ca9f608",
   "metadata": {},
   "outputs": [],
   "source": [
    "cat_vars = ['churned','tenure', 'dsl', 'fiber', 'no_internet', 'm2m', 'one_year_contract', 'two_year_contract', 'is_male', 'partner', 'dependents', 'phone_service', 'multiple_lines', 'online_security', 'device_protection','tech_support','streaming_tv', 'streaming_movies', 'autopayment', 'not_autopayment']\n",
    "quant_vars = ['monthly_charges', 'total_charges']\n",
    "explore.explore_univariate(train, cat_vars, quant_vars)"
   ]
  },
  {
   "cell_type": "markdown",
   "id": "3602a1d8",
   "metadata": {},
   "source": [
    "#### Takeaways:"
   ]
  },
  {
   "cell_type": "markdown",
   "id": "c1ddcf43",
   "metadata": {},
   "source": [
    "### Bivariate Stats"
   ]
  },
  {
   "cell_type": "code",
   "execution_count": null,
   "id": "7c35a194",
   "metadata": {},
   "outputs": [],
   "source": [
    "cat_vars = cat_vars[1:]\n",
    "explore.explore_bivariate(train, 'churned', cat_vars, quant_vars)"
   ]
  },
  {
   "cell_type": "markdown",
   "id": "ec5a5398",
   "metadata": {},
   "source": [
    "#### Takeaways:"
   ]
  },
  {
   "cell_type": "markdown",
   "id": "78ce78aa",
   "metadata": {},
   "source": [
    "### Multivariate Stats"
   ]
  },
  {
   "cell_type": "code",
   "execution_count": null,
   "id": "0bbfb97f",
   "metadata": {},
   "outputs": [],
   "source": [
    "target = 'churned'\n",
    "explore.explore_multivariate(train, target, cat_vars, quant_vars)"
   ]
  },
  {
   "cell_type": "markdown",
   "id": "845c6fa8",
   "metadata": {},
   "source": [
    "#### Takeaways:"
   ]
  },
  {
   "cell_type": "markdown",
   "id": "6e847769",
   "metadata": {},
   "source": [
    "# Modeling and Evaluation"
   ]
  },
  {
   "cell_type": "markdown",
   "id": "59c2094d",
   "metadata": {},
   "source": [
    "### Notes:\n",
    "    - Document baseline accuracy using three different models.\n",
    "    - Train (fit, transform, evaluate) multiple models, varying the algorithm and/or hyperparameters \n",
    "    - Compare evaluation metrics across all the models\n",
    "    - (Optional) Remove variables that provide limited to no additionl information\n",
    "    - Best model used with to test data.\n",
    "    - Final test model of out-of-sample data (the testing dataset)\n",
    "    - performance summarization, interpret, and document"
   ]
  },
  {
   "cell_type": "markdown",
   "id": "d15b9a29",
   "metadata": {},
   "source": [
    "# Delivery\n",
    "\n",
    "    - Summary of findings\n",
    "    - Analysis\n",
    "    - Conclusion including takeaways and recommendations"
   ]
  },
  {
   "cell_type": "code",
   "execution_count": null,
   "id": "eb602f8a",
   "metadata": {},
   "outputs": [],
   "source": []
  }
 ],
 "metadata": {
  "kernelspec": {
   "display_name": "Python 3",
   "language": "python",
   "name": "python3"
  },
  "language_info": {
   "codemirror_mode": {
    "name": "ipython",
    "version": 3
   },
   "file_extension": ".py",
   "mimetype": "text/x-python",
   "name": "python",
   "nbconvert_exporter": "python",
   "pygments_lexer": "ipython3",
   "version": "3.8.8"
  }
 },
 "nbformat": 4,
 "nbformat_minor": 5
}
